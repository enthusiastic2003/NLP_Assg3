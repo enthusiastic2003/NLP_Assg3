{
  "cells": [
    {
      "cell_type": "markdown",
      "metadata": {
        "id": "TZ39Vxvm7S0a"
      },
      "source": [
        "# Assignment 3: Sequence-to-Sequence Modeling (TA: Shivashish Naithani)\n",
        "\n",
        "In this assignment, you will perform the task of translating Indian Names to English, a sequence-to-sequence modeling task, using character-level conditional language models.\n",
        "\n",
        "As before, please make a copy of this notebook (locally or on Colab). Ensure you adhere to the guidelines and submission instructions (mentioned below) for attempting and submitting the assignment."
      ]
    },
    {
      "cell_type": "markdown",
      "metadata": {
        "id": "uysmp8X-7S0i"
      },
      "source": [
        "### Guidelines for Attempting the Assignment"
      ]
    },
    {
      "cell_type": "markdown",
      "metadata": {
        "id": "E_vklna37S0j"
      },
      "source": [
        "1. Write your logic in the cells which have the comment `# ADD YOUR CODE HERE`, between the `# BEGIN CODE` and `# END CODE` comments. These cells are also demarcated by the special start (`## ==== BEGIN EVALUATION PORTION`) and end (`## ==== END EVALUATION PORTION`) comments. Do **NOT** remove any of these comments from the designated cells, otherwise your assigment may not be evaluated correctly.\n",
        "\n",
        "2. All imports that should be necessary are already provided as part of the notebook. Should you require additional imports, add them in the cells to be graded, but outside the `# BEGIN CODE` and `# END CODE` block. For example, if you need to import a package called `mypackage`, add it as follows in a graded cell:\n",
        "\n",
        "``` python\n",
        "## ==== BEGIN EVALUATION PORTION\n",
        "\n",
        "import mypackage # <===\n",
        "\n",
        "def function_to_be_implemented(*args, **kwargs):\n",
        "\n",
        "    ...\n",
        "\n",
        "    # ADD YOUR CODE HERE\n",
        "    # BEGIN CODE\n",
        "\n",
        "    # END CODE\n",
        "\n",
        "    ...\n",
        "\n",
        "## ==== END EVALUATION PORTION\n",
        "\n",
        "```\n",
        "4. Do not modify anything in the cells which start with `# Please do not change anything in the following cell`.\n",
        "\n",
        "5. Only write your code in the cells designated for auto-evaluation. If you encounter any errors in the supporting cells during execution, contact the respective TAs.\n",
        "\n",
        "6. **Important**: Use of AI-assistive technologies such as ChatGPT or GitHub CoPilot is not permitted for this assignment. Ensure that all attempts are solely your own. Not following this rule can incur heavy penalty, including getting NO GRADE for this assignment, which will affect your grade significantly."
      ]
    },
    {
      "cell_type": "markdown",
      "metadata": {
        "id": "sK3moP9d7S0l"
      },
      "source": [
        "### Submission Instructions"
      ]
    },
    {
      "cell_type": "markdown",
      "metadata": {
        "id": "g1Y-T9hT7S0m"
      },
      "source": [
        "1. Ensure your code follows all guidelines mentioned above before submission.\n",
        "\n",
        "2. Try to avoid any unnecessary print statements across the code. We will evaluate specific output lines which begin with the phrase `EVALUATION`. Ensure you do not modify these print statements howsoever, as they are used for auto-evaluation.\n",
        "\n",
        "3. When you have completely attempted the assignment, export the current notebook as a `.py` file, with the following name: `SAPName_SRNo_assignment3.py`, where `SAPName` would be your name as per SAP record, and `SRNo` will be the last 5 digits of your IISc SR number. For example, IISc student with SAP name Twyla Linda (SR no - 04-03-00-10-22-20-1-15329) would use `Twyla_Linda_15329_assignment3.py`.\n",
        "\n",
        "4. Once you have executed the code, certain additional files will be created. Once you are done executing all associated cells, ensure the folder structure looks as follows:\n",
        "\n",
        "``` python\n",
        "└─── SAPName_SRNo\n",
        "     ├─── SAPName_SRNo_assignment3.py\n",
        "     ├─── src-tokenizer\n",
        "     │    └─── tokenizer.pkl\n",
        "     ├─── tgt-tokenizer\n",
        "     │    └─── tokenizer.pkl\n",
        "     ├─── rnn.enc-dec\n",
        "     │    ├─── model.pt\n",
        "     │    ├─── loss.json\n",
        "     │    ├─── outputs.csv\n",
        "     │    └─── metadata.json\n",
        "     └─── rnn.enc-dec.attn\n",
        "          ├─── model.pt\n",
        "          ├─── loss.json\n",
        "          ├─── outputs.csv\n",
        "          └─── metadata.json\n",
        "```\n",
        "\n",
        "5. Once you have validated the folder structure as above, add the exported `.py` file to the folder and submit the folder as a ZIP archive."
      ]
    },
    {
      "cell_type": "markdown",
      "metadata": {
        "id": "JWNGKx3C7S0n"
      },
      "source": [
        "In the cell below, replace `SAPName` with your name as per SAP record, and `SRNo` with the last 5 digits of your IISc SR number. For example, IISc student with SAP name Twyla Linda (SR no - 04-03-00-10-22-20-1-15329) would use:\n",
        "\n",
        "```python\n",
        "STUDENT_SAP_NAME  = \"Twyla Linda\"\n",
        "STUDENT_SR_NUMBER = \"15329\"\n",
        "```"
      ]
    },
    {
      "cell_type": "code",
      "execution_count": 1,
      "metadata": {
        "id": "juYQICX47S0p"
      },
      "outputs": [],
      "source": [
        "STUDENT_SAP_NAME  = \"Sirjan Hansda\"\n",
        "STUDENT_SR_NUMBER = \"22188\""
      ]
    },
    {
      "cell_type": "markdown",
      "metadata": {
        "id": "9JmPFqkT7S0r"
      },
      "source": [
        "**Important Notes**:\n",
        "\n",
        "- Some of the tasks in this assignment are compute intensive, and are better performed on an accelerator device (GPU, etc.). Unless you have one locally, prefer using a GPU instance on Colab for execution.\n",
        "- Due to resource restrictions on Colab, training some models may not finish in time. In such a case, ensure you store checkpoints to a persistent directory so that you may resume training once your resource limits are restored."
      ]
    },
    {
      "cell_type": "markdown",
      "metadata": {
        "id": "puFcXNQD2ItL"
      },
      "source": []
    },
    {
      "cell_type": "markdown",
      "metadata": {
        "id": "TbZjfBWF7S0t"
      },
      "source": [
        "## Outline"
      ]
    },
    {
      "cell_type": "markdown",
      "metadata": {
        "id": "lQVZHQIJ7S0t"
      },
      "source": [
        "Through the last assignment, you have seen that neural language models are able to successfully capture patterns across Indian names. In this assignment, you will extend upon that idea to learn conditional language models for the task of transliteration: converting Indian names in the English alphabet to Hindi."
      ]
    },
    {
      "cell_type": "markdown",
      "metadata": {
        "id": "ElSrTdBy7S0u"
      },
      "source": [
        "### Marks Distribution\n",
        "\n",
        "- Agnostic Task-Specific Training: 5 marks\n",
        "- Seq-2-Seq via RNN: 40 marks\n",
        "- Seq-2-Seq via RNN with Attention: 35 marks\n",
        "- Evaluation\n",
        "- Decoding Strategy: 20 marks"
      ]
    },
    {
      "cell_type": "markdown",
      "metadata": {
        "id": "oeose21P7S0v"
      },
      "source": [
        "## Setup"
      ]
    },
    {
      "cell_type": "markdown",
      "metadata": {
        "id": "w1ApHWVd7S0v"
      },
      "source": [
        "The following cells perform the basic setup such as importing the necessary packages. You will not require any additional libraries, so importing any additional libraries is not allowed."
      ]
    },
    {
      "cell_type": "code",
      "execution_count": 2,
      "metadata": {
        "colab": {
          "base_uri": "https://localhost:8080/"
        },
        "id": "m1rW15no7S0w",
        "outputId": "abd03cd2-c81c-42a5-8a0c-f5c3ac3b56d1"
      },
      "outputs": [
        {
          "name": "stdout",
          "output_type": "stream",
          "text": [
            "Requirement already satisfied: tqdm in /home/sirjanhansda/miniconda3/envs/NLP3/lib/python3.13/site-packages (4.67.1)\n",
            "Requirement already satisfied: nltk in /home/sirjanhansda/miniconda3/envs/NLP3/lib/python3.13/site-packages (3.9.1)\n",
            "Requirement already satisfied: matplotlib in /home/sirjanhansda/miniconda3/envs/NLP3/lib/python3.13/site-packages (3.10.1)\n",
            "Requirement already satisfied: numpy in /home/sirjanhansda/miniconda3/envs/NLP3/lib/python3.13/site-packages (2.2.4)\n",
            "Requirement already satisfied: pandas in /home/sirjanhansda/miniconda3/envs/NLP3/lib/python3.13/site-packages (2.2.3)\n",
            "Requirement already satisfied: click in /home/sirjanhansda/miniconda3/envs/NLP3/lib/python3.13/site-packages (from nltk) (8.1.8)\n",
            "Requirement already satisfied: joblib in /home/sirjanhansda/miniconda3/envs/NLP3/lib/python3.13/site-packages (from nltk) (1.4.2)\n",
            "Requirement already satisfied: regex>=2021.8.3 in /home/sirjanhansda/miniconda3/envs/NLP3/lib/python3.13/site-packages (from nltk) (2024.11.6)\n",
            "Requirement already satisfied: contourpy>=1.0.1 in /home/sirjanhansda/miniconda3/envs/NLP3/lib/python3.13/site-packages (from matplotlib) (1.3.1)\n",
            "Requirement already satisfied: cycler>=0.10 in /home/sirjanhansda/miniconda3/envs/NLP3/lib/python3.13/site-packages (from matplotlib) (0.12.1)\n",
            "Requirement already satisfied: fonttools>=4.22.0 in /home/sirjanhansda/miniconda3/envs/NLP3/lib/python3.13/site-packages (from matplotlib) (4.56.0)\n",
            "Requirement already satisfied: kiwisolver>=1.3.1 in /home/sirjanhansda/miniconda3/envs/NLP3/lib/python3.13/site-packages (from matplotlib) (1.4.8)\n",
            "Requirement already satisfied: packaging>=20.0 in /home/sirjanhansda/miniconda3/envs/NLP3/lib/python3.13/site-packages (from matplotlib) (24.2)\n",
            "Requirement already satisfied: pillow>=8 in /home/sirjanhansda/miniconda3/envs/NLP3/lib/python3.13/site-packages (from matplotlib) (11.1.0)\n",
            "Requirement already satisfied: pyparsing>=2.3.1 in /home/sirjanhansda/miniconda3/envs/NLP3/lib/python3.13/site-packages (from matplotlib) (3.2.2)\n",
            "Requirement already satisfied: python-dateutil>=2.7 in /home/sirjanhansda/miniconda3/envs/NLP3/lib/python3.13/site-packages (from matplotlib) (2.9.0.post0)\n",
            "Requirement already satisfied: pytz>=2020.1 in /home/sirjanhansda/miniconda3/envs/NLP3/lib/python3.13/site-packages (from pandas) (2025.1)\n",
            "Requirement already satisfied: tzdata>=2022.7 in /home/sirjanhansda/miniconda3/envs/NLP3/lib/python3.13/site-packages (from pandas) (2025.2)\n",
            "Requirement already satisfied: six>=1.5 in /home/sirjanhansda/miniconda3/envs/NLP3/lib/python3.13/site-packages (from python-dateutil>=2.7->matplotlib) (1.17.0)\n",
            "Note: you may need to restart the kernel to use updated packages.\n"
          ]
        }
      ],
      "source": [
        "# Installs packages, if using locally. Feel free to add other missing packages as required.\n",
        "\n",
        "%pip install tqdm nltk matplotlib numpy pandas"
      ]
    },
    {
      "cell_type": "code",
      "execution_count": 3,
      "metadata": {},
      "outputs": [],
      "source": [
        "import torch"
      ]
    },
    {
      "cell_type": "code",
      "execution_count": 4,
      "metadata": {
        "id": "NijuBljo7S0w"
      },
      "outputs": [],
      "source": [
        "# Built-in imports, no installations required.\n",
        "\n",
        "import os\n",
        "import gc\n",
        "import json\n",
        "import math\n",
        "import pickle\n",
        "import subprocess\n",
        "import collections\n",
        "import unicodedata"
      ]
    },
    {
      "cell_type": "code",
      "execution_count": 5,
      "metadata": {
        "id": "Z2liLT4Y7S0x"
      },
      "outputs": [
        {
          "name": "stderr",
          "output_type": "stream",
          "text": [
            "/home/sirjanhansda/miniconda3/envs/NLP3/lib/python3.13/site-packages/tqdm/auto.py:21: TqdmWarning: IProgress not found. Please update jupyter and ipywidgets. See https://ipywidgets.readthedocs.io/en/stable/user_install.html\n",
            "  from .autonotebook import tqdm as notebook_tqdm\n"
          ]
        }
      ],
      "source": [
        "# 3rd-party package imports, may require installation if not on a platform such as Colab.\n",
        "\n",
        "import numpy\n",
        "import torch\n",
        "import pandas as pd\n",
        "import tqdm.auto as tqdm\n",
        "\n",
        "import matplotlib\n",
        "from matplotlib import pyplot\n",
        "from nltk.translate import bleu_score\n",
        "from torch.utils.data import TensorDataset, DataLoader"
      ]
    },
    {
      "cell_type": "code",
      "execution_count": 6,
      "metadata": {
        "id": "m3XUKaQ37S0x"
      },
      "outputs": [],
      "source": [
        "# Please do not change anything in the following cell\n",
        "\n",
        "# Find and load fonts that can display Hindi characters, for Matplotlib\n",
        "result = subprocess.run([ 'fc-list', ':lang=hi', 'family' ], capture_output=True)\n",
        "found_hindi_fonts = result.stdout.decode('utf-8').strip().split('\\n')\n",
        "\n",
        "matplotlib.rcParams['font.sans-serif'] = [\n",
        "    'Source Han Sans TW', 'sans-serif', 'Arial Unicode MS',\n",
        "    *found_hindi_fonts\n",
        "]"
      ]
    },
    {
      "cell_type": "code",
      "execution_count": 7,
      "metadata": {
        "id": "x2X96lFz7S0y"
      },
      "outputs": [],
      "source": [
        "# Please do not change anything in the following cell\n",
        "\n",
        "DIRECTORY_NAME = f\"{STUDENT_SAP_NAME.replace(' ', '_')}_{STUDENT_SR_NUMBER}\"\n",
        "\n",
        "os.makedirs(DIRECTORY_NAME, exist_ok=True)"
      ]
    },
    {
      "cell_type": "code",
      "execution_count": 8,
      "metadata": {
        "id": "bw94_afp7S0y"
      },
      "outputs": [],
      "source": [
        "def sync_vram():\n",
        "    \"\"\" Synchronizes the VRAM across the GPUs, reclaiming unused memory. \"\"\"\n",
        "    gc.collect()\n",
        "    torch.cuda.empty_cache()\n",
        "    torch.cuda.synchronize()"
      ]
    },
    {
      "cell_type": "markdown",
      "metadata": {
        "id": "CEg1ZOP17S0y"
      },
      "source": [
        "## Data Preparation"
      ]
    },
    {
      "cell_type": "markdown",
      "metadata": {
        "id": "m_lcFfUf7S0y"
      },
      "source": [
        "We'll load the data for the task, which comprises of a parallel corpus of Indian Names and their Hindi equivalents."
      ]
    },
    {
      "cell_type": "code",
      "execution_count": 9,
      "metadata": {
        "colab": {
          "base_uri": "https://localhost:8080/"
        },
        "id": "gFbB8qWx7S0z",
        "outputId": "086c2940-fad7-4f91-a8b0-4153e124dfab"
      },
      "outputs": [],
      "source": [
        "# # Make sure your code is not dependent on any of the file names as below.\n",
        "\n",
        "# # Download the training and validation datasets\n",
        "# !wget -O data.train.csv \"https://docs.google.com/spreadsheets/d/e/2PACX-1vQOYe_Oy8eMzVFYq6hBSyPLslqA1PeMeK8S5nPs2-viuCNzx0i3Fl_ptFmD0YD3kTA_olYdOIx7iPOh/pub?gid=1482240395&single=true&output=csv\"\n",
        "# !wget -O data.valid.csv \"https://docs.google.com/spreadsheets/d/e/2PACX-1vTKa_jeysYhx869fmTb7VUchlSiChUq0vqotWRGMmnTXWZ8H2PkF8s6hRr2vdo6v54JJx8CEuVo8MZ3/pub?gid=1579594041&single=true&output=csv\""
      ]
    },
    {
      "cell_type": "code",
      "execution_count": 10,
      "metadata": {
        "colab": {
          "base_uri": "https://localhost:8080/"
        },
        "id": "1L8ZDlFm7S0z",
        "outputId": "fae7fbaa-bd98-4175-ec26-8d06bee299a6"
      },
      "outputs": [
        {
          "name": "stdout",
          "output_type": "stream",
          "text": [
            "Length of training data: 4484\n",
            "Length of validation data: 400\n"
          ]
        }
      ],
      "source": [
        "# Please do not change anything in the following cell\n",
        "\n",
        "def read_dataframe(ds_type):\n",
        "    \"\"\" Loads a dataframe based on the given partition type.\n",
        "\n",
        "    Args:\n",
        "        ds_type (str): Dataset type: train (train) or validation (valid)\n",
        "\n",
        "    Returns:\n",
        "        pd.DataFrame: Pandas Dataframe for the specified partition.\n",
        "    \"\"\"\n",
        "\n",
        "    df = pd.read_csv(f\"data.{ds_type}.csv\", header=0)\n",
        "    df = df[~df.isna()]\n",
        "    df['Name'] = df['Name'].astype(str)\n",
        "    df['Translation'] = df['Translation'].astype(str)\n",
        "    return df\n",
        "\n",
        "# Load the training and validation datasets\n",
        "train_data      = read_dataframe(\"train\")\n",
        "validation_data = read_dataframe(\"valid\")\n",
        "\n",
        "print(f\"Length of training data: {len(train_data)}\\nLength of validation data: {len(validation_data)}\")"
      ]
    },
    {
      "cell_type": "markdown",
      "metadata": {
        "id": "LE8sRvHo7S00"
      },
      "source": [
        "Here are some examples from the training dataset. Note that the dataset may be noisy so some examples may not be perfect:"
      ]
    },
    {
      "cell_type": "code",
      "execution_count": 11,
      "metadata": {
        "colab": {
          "base_uri": "https://localhost:8080/",
          "height": 206
        },
        "id": "kZH2EVyE7S00",
        "outputId": "35b53874-9c8c-4403-87af-4dfd69c4b789"
      },
      "outputs": [
        {
          "data": {
            "text/html": [
              "<div>\n",
              "<style scoped>\n",
              "    .dataframe tbody tr th:only-of-type {\n",
              "        vertical-align: middle;\n",
              "    }\n",
              "\n",
              "    .dataframe tbody tr th {\n",
              "        vertical-align: top;\n",
              "    }\n",
              "\n",
              "    .dataframe thead th {\n",
              "        text-align: right;\n",
              "    }\n",
              "</style>\n",
              "<table border=\"1\" class=\"dataframe\">\n",
              "  <thead>\n",
              "    <tr style=\"text-align: right;\">\n",
              "      <th></th>\n",
              "      <th>Name</th>\n",
              "      <th>Translation</th>\n",
              "    </tr>\n",
              "  </thead>\n",
              "  <tbody>\n",
              "    <tr>\n",
              "      <th>2396</th>\n",
              "      <td>मुरली</td>\n",
              "      <td>murli</td>\n",
              "    </tr>\n",
              "    <tr>\n",
              "      <th>737</th>\n",
              "      <td>आतिफ</td>\n",
              "      <td>atif</td>\n",
              "    </tr>\n",
              "    <tr>\n",
              "      <th>1803</th>\n",
              "      <td>किरोरीमल</td>\n",
              "      <td>kirorimal</td>\n",
              "    </tr>\n",
              "    <tr>\n",
              "      <th>3882</th>\n",
              "      <td>राजेंद्री</td>\n",
              "      <td>rajenderi</td>\n",
              "    </tr>\n",
              "    <tr>\n",
              "      <th>1247</th>\n",
              "      <td>जाहूर</td>\n",
              "      <td>jahoor</td>\n",
              "    </tr>\n",
              "  </tbody>\n",
              "</table>\n",
              "</div>"
            ],
            "text/plain": [
              "           Name Translation\n",
              "2396      मुरली       murli\n",
              "737        आतिफ        atif\n",
              "1803   किरोरीमल   kirorimal\n",
              "3882  राजेंद्री   rajenderi\n",
              "1247      जाहूर      jahoor"
            ]
          },
          "execution_count": 11,
          "metadata": {},
          "output_type": "execute_result"
        }
      ],
      "source": [
        "train_data.sample(n=5)"
      ]
    },
    {
      "cell_type": "markdown",
      "metadata": {
        "id": "D0B5XhUx7S01"
      },
      "source": [
        "## Tokenization"
      ]
    },
    {
      "cell_type": "markdown",
      "metadata": {
        "id": "wizKxo-j7S01"
      },
      "source": [
        "An implementation of tokenization is already in place. Do not modify it, as it can affect your evaluation."
      ]
    },
    {
      "cell_type": "code",
      "execution_count": 12,
      "metadata": {
        "id": "8Y3ri4PD7S02"
      },
      "outputs": [],
      "source": [
        "# Please do not change anything in the following cell\n",
        "\n",
        "class Tokenizer:\n",
        "    \"\"\" Represents the tokenizer for text data.\n",
        "        Provides methods to encode and decode strings (as instance or as a batch). \"\"\"\n",
        "\n",
        "    def __init__(self):\n",
        "        \"\"\" Initializes a new tokenizer.\n",
        "\n",
        "            Any variables required in intermediate operations are declared here.\n",
        "            You will also need to define things like special tokens and other things here.\n",
        "\n",
        "            All variables declared in this function will be serialized\n",
        "                and deserialized when loading and saving the Tokenizer.\n",
        "            \"\"\"\n",
        "\n",
        "        self.special_tokens = { '[BOS]': 1, '[EOS]': 2, '[PAD]': 0 }\n",
        "        self.vocab = { bytes([ i ]): i+len(self.special_tokens) for i in range(256)  }\n",
        "        self.merge_rules = {  }\n",
        "        self.inv_vocab = { _id: token for token, _id in self.vocab.items() }\n",
        "        self.inv_vocab.update({ _id: token.encode() for token, _id in self.special_tokens.items() })\n",
        "\n",
        "    @classmethod\n",
        "    def load(cls, path):\n",
        "        \"\"\" Loads a pre-trained tokenizer from the given directory.\n",
        "           This directory will have a tokenizer.pkl file that contains all the tokenizer variables.\n",
        "\n",
        "        Args:\n",
        "            path (str): Path to load the tokenizer from.\n",
        "        \"\"\"\n",
        "        tokenizer_file = os.path.join(path, \"tokenizer.pkl\")\n",
        "\n",
        "        if not os.path.exists(path) or not os.path.exists(os.path.join(path, \"tokenizer.pkl\")):\n",
        "            raise ValueError(cls.load.__name__ + \": No tokenizer found at the specified directory\")\n",
        "\n",
        "        with open(tokenizer_file, \"rb\") as ifile:\n",
        "            return pickle.load(ifile)\n",
        "\n",
        "    def save(self, path):\n",
        "        \"\"\" Saves a trained tokenizer to a given directory, inside a tokenizer.pkl file.\n",
        "\n",
        "        Args:\n",
        "            path (str): Directory to save the tokenizer in.\n",
        "        \"\"\"\n",
        "\n",
        "        os.makedirs(path, exist_ok=True)\n",
        "        with open(os.path.join(path, \"tokenizer.pkl\"), 'wb') as ofile:\n",
        "            pickle.dump(self, ofile)\n",
        "\n",
        "    def train(self, data, vocab_size):\n",
        "        \"\"\" Trains a tokenizer to learn meaningful representations from input data.\n",
        "            In the end, learns a vocabulary of a fixed size over the given data.\n",
        "            Special tokens, if any, must not be counted towards this vocabulary.\n",
        "\n",
        "        Args:\n",
        "            data (list[str]): List of input strings from a text corpus.\n",
        "            vocab_size (int): Final desired size of the vocab to be learnt.\n",
        "        \"\"\"\n",
        "\n",
        "        self.vocab = { bytes([ i ]): i+len(self.special_tokens) for i in range(256)  }\n",
        "        self.vocab.update({ token.encode('utf-8'): _id for token, _id in self.special_tokens.items() })\n",
        "\n",
        "        self.merge_rules = {  }\n",
        "        self.inv_vocab   = { _id: token for token, _id in self.vocab.items() }\n",
        "\n",
        "        data = [ [ i+len(self.special_tokens) for i in instance.encode('utf-8') ] for instance in data ]\n",
        "\n",
        "        while len(self.vocab) < len(self.special_tokens) + vocab_size:\n",
        "            # Compute stats\n",
        "            counts = collections.defaultdict(int)\n",
        "            for tok_str in data:\n",
        "                for tok, next_tok in zip(tok_str, tok_str[1:]):\n",
        "                    counts[(tok, next_tok)] += 1\n",
        "\n",
        "            # Learn a new merge rule\n",
        "            best_pair = max(counts, key=counts.get)\n",
        "            new_token, new_id = self.inv_vocab[best_pair[0]] + self.inv_vocab[best_pair[1]], len(self.vocab)\n",
        "            self.merge_rules[best_pair] = new_id\n",
        "            self.inv_vocab[new_id] = new_token\n",
        "            self.vocab[new_token]  = new_id\n",
        "\n",
        "            # Update tokens\n",
        "            new_data = []\n",
        "            for tok_str in data:\n",
        "                i, new_tok_str = 0, []\n",
        "                while i < len(tok_str):\n",
        "                    if i < len(tok_str) - 1 and (tok_str[i], tok_str[i+1]) == best_pair:\n",
        "                        new_tok_str.append(new_id)\n",
        "                        i += 2\n",
        "                    else:\n",
        "                        new_tok_str.append(tok_str[i])\n",
        "                        i += 1\n",
        "                new_data.append(new_tok_str)\n",
        "            data = new_data\n",
        "\n",
        "    def pad(self, tokens, length):\n",
        "        \"\"\" Pads a tokenized string to a specified length, for batch processing.\n",
        "\n",
        "        Args:\n",
        "            tokens (list[int]): Encoded token string to be padded.\n",
        "            length (int): Length of tokens to pad to.\n",
        "\n",
        "        Returns:\n",
        "            list[int]: Token string padded to desired length.\n",
        "        \"\"\"\n",
        "\n",
        "\n",
        "        if len(tokens) < length:\n",
        "            tokens = [ *tokens ]\n",
        "            tokens += ([ self.special_tokens['[PAD]'] ] * (length - len(tokens)))\n",
        "\n",
        "        return tokens\n",
        "\n",
        "\n",
        "    def unpad(self, tokens):\n",
        "        \"\"\" Removes padding from a token string.\n",
        "\n",
        "        Args:\n",
        "            tokens (list[int]): Encoded token string with padding.\n",
        "\n",
        "        Returns:\n",
        "            list[int]: Token string with padding removed.\n",
        "        \"\"\"\n",
        "\n",
        "        no_pad_len = len(tokens)\n",
        "        while tokens[no_pad_len-1] == self.special_tokens['[PAD]']: no_pad_len -= 1\n",
        "\n",
        "        return tokens[:no_pad_len]\n",
        "\n",
        "    def get_special_tokens(self):\n",
        "        \"\"\" Returns the associated special tokens.\n",
        "\n",
        "            Returns:\n",
        "                dict[str, int]: Mapping describing the special tokens, if any.\n",
        "                    This is a mapping between a string segment (token) and its associated id (token_id).\n",
        "        \"\"\"\n",
        "\n",
        "        return self.special_tokens\n",
        "\n",
        "    def get_vocabulary(self):\n",
        "        \"\"\" Returns the learnt vocabulary post the training process.\n",
        "\n",
        "            Returns:\n",
        "                dict[str, int]: Mapping describing the vocabulary and special tokens, if any.\n",
        "                    This is a mapping between a string segment (token) and its associated id (token_id).\n",
        "        \"\"\"\n",
        "\n",
        "        return self.vocab\n",
        "\n",
        "    def encode(self, string, add_start=True, add_end=True):\n",
        "        \"\"\" Encodes a string into a list of tokens.\n",
        "\n",
        "        Args:\n",
        "            string (str): Input string to be tokenized.\n",
        "            add_start (bool): If true, adds the start of sequence token.\n",
        "            add_end (bool): If true, adds the end of sequence token.\n",
        "        Returns:\n",
        "            list[int]: List of tokens (unpadded).\n",
        "        \"\"\"\n",
        "\n",
        "        string = unicodedata.normalize('NFKC', string)\n",
        "\n",
        "        tokens = [ i+len(self.special_tokens) for i in string.encode('utf-8') ]\n",
        "\n",
        "        while len(tokens) > 1:\n",
        "            pairs = set()\n",
        "            for tok, next_tok in zip(tokens, tokens[1:]):\n",
        "                pairs.add((tok, next_tok))\n",
        "\n",
        "            merge_pair = min(pairs, key=lambda x: self.merge_rules.get(x, float(\"inf\")))\n",
        "            if merge_pair not in self.merge_rules: break\n",
        "\n",
        "            i, new_tokens = 0, []\n",
        "            while i < len(tokens):\n",
        "                if i < len(tokens) - 1 and (tokens[i], tokens[i+1]) == merge_pair:\n",
        "                    new_tokens.append(self.merge_rules[merge_pair])\n",
        "                    i += 2\n",
        "                else:\n",
        "                    new_tokens.append(tokens[i])\n",
        "                    i += 1\n",
        "            tokens = new_tokens\n",
        "\n",
        "        if add_start: tokens = [ self.special_tokens['[BOS]'] ] + tokens\n",
        "        if add_end  : tokens = tokens + [ self.special_tokens['[EOS]'] ]\n",
        "\n",
        "        return tokens\n",
        "\n",
        "\n",
        "    def decode(self, tokens, strip_special=True):\n",
        "        \"\"\" Decodes a string from a list of tokens.\n",
        "            Undoes the tokenization, returning back the input string.\n",
        "\n",
        "        Args:\n",
        "            tokens (list[int]): List of encoded tokens to be decoded. No padding is assumed.\n",
        "            strip_special (bool): Whether to remove special tokens or not.\n",
        "\n",
        "        Returns:\n",
        "            str: Decoded string.\n",
        "        \"\"\"\n",
        "\n",
        "        if strip_special:\n",
        "            special_tokens = set(self.special_tokens.values())\n",
        "            tokens = [ token for token in tokens if token not in special_tokens ]\n",
        "\n",
        "        return (b''.join(self.inv_vocab[tok_id] for tok_id in tokens)).decode('utf-8', errors='replace')\n",
        "\n",
        "    def batch_encode(self, batch, padding=None, add_start=True, add_end=True):\n",
        "        \"\"\"Encodes multiple strings in a batch to list of tokens padded to a given size.\n",
        "\n",
        "        Args:\n",
        "            batch (list[str]): List of strings to be tokenized.\n",
        "            padding (int, optional): Optional, desired tokenized length. Outputs will be padded to fit this length.\n",
        "            add_start (bool): If true, adds the start of sequence token.\n",
        "            add_end (bool): If true, adds the end of sequence token.\n",
        "\n",
        "        Returns:\n",
        "            list[list[int]]: List of tokenized outputs, padded to the same length.\n",
        "        \"\"\"\n",
        "\n",
        "        batch_output = [ self.encode(string, add_start, add_end) for string in batch ]\n",
        "        if padding:\n",
        "            for i, tokens in enumerate(batch_output):\n",
        "                if len(tokens) < padding:\n",
        "                    batch_output[i] = self.pad(tokens, padding)\n",
        "        return batch_output\n",
        "\n",
        "    def batch_decode(self, batch, strip_special=True):\n",
        "        \"\"\" Decodes a batch of encoded tokens to normal strings.\n",
        "\n",
        "        Args:\n",
        "            batch (list[list[int]]): List of encoded token strings, optionally padded.\n",
        "            strip_special (bool): Whether to remove special tokens or not.\n",
        "\n",
        "        Returns:\n",
        "            list[str]: Decoded strings after padding is removed.\n",
        "        \"\"\"\n",
        "        return [ self.decode(self.unpad(tokens), strip_special=strip_special) for tokens in batch ]"
      ]
    },
    {
      "cell_type": "markdown",
      "metadata": {
        "id": "2__Tts8p7S04"
      },
      "source": [
        "Now with the tokenizer class, initialize and train the tokenizers for processing the parallel corpus:"
      ]
    },
    {
      "cell_type": "code",
      "execution_count": 13,
      "metadata": {
        "id": "4A_U8cl_7S04"
      },
      "outputs": [],
      "source": [
        "# Please do not change anything in the following cell\n",
        "\n",
        "# Initialize the tokenizers as per the desired strategy.\n",
        "src_tokenizer = Tokenizer()\n",
        "tgt_tokenizer = Tokenizer()\n"
      ]
    },
    {
      "cell_type": "code",
      "execution_count": 14,
      "metadata": {
        "id": "OBYyr0Es7S04"
      },
      "outputs": [],
      "source": [
        "# Please do not change anything in the following cell\n",
        "\n",
        "# Edit the hyperparameters below as desired.\n",
        "SRC_VOCAB_SIZE = 300\n",
        "TGT_VOCAB_SIZE = 400\n",
        "\n",
        "\n",
        "# Train your tokenizer(s)\n",
        "src_tokenizer.train(train_data['Name']       , vocab_size=SRC_VOCAB_SIZE)\n",
        "tgt_tokenizer.train(train_data['Translation'], vocab_size=TGT_VOCAB_SIZE)"
      ]
    },
    {
      "cell_type": "code",
      "execution_count": 15,
      "metadata": {
        "id": "a2vmqRKH7S05"
      },
      "outputs": [],
      "source": [
        "# Please do not change anything in the following cell\n",
        "\n",
        "# Save the trained tokenizers\n",
        "src_tokenizer.save(os.path.join(DIRECTORY_NAME, \"src-tokenizer\"))\n",
        "tgt_tokenizer.save(os.path.join(DIRECTORY_NAME, \"tgt-tokenizer\"))"
      ]
    },
    {
      "cell_type": "code",
      "execution_count": 16,
      "metadata": {
        "id": "s1O2qJYg7S06"
      },
      "outputs": [],
      "source": [
        "# Please do not change anything in the following cell\n",
        "\n",
        "def render_glyph(token):\n",
        "    \"\"\" Renders a token, handling invalid bytes in a safe, error-proof manner. \"\"\"\n",
        "\n",
        "    token = token.decode('utf-8', errors='replace') if isinstance(token, bytes) else token\n",
        "    return \"\".join([ c if unicodedata.category(c)[0] != \"C\" else f\"\\\\u{ord(c):04x}\" for c in token ])\n",
        "\n",
        "def inverse_vocabulary(tokenizer):\n",
        "    \"\"\" Generates an inverse vocabulary with rendered tokens.\n",
        "\n",
        "    Args:\n",
        "        tokenizer (Tokenizer): Tokenizer whose vocabulary must be used.\n",
        "    \"\"\"\n",
        "\n",
        "    return { id: render_glyph(token) for token, id in tokenizer.get_vocabulary().items() }\n",
        "\n",
        "def apply_inverse_vocab(tokens, inv_vocab):\n",
        "    \"\"\" Decodes using the given inverse vocabulary.\n",
        "\n",
        "    Args:\n",
        "        tokens (list[int]): Tokens to process.\n",
        "        inv_vocab (dict[int, str]): Inverse vocabulary for mapping ids to tokens.\n",
        "\n",
        "    Returns:\n",
        "        list[str]: Mapped token glyphs.\n",
        "    \"\"\"\n",
        "\n",
        "    return [ inv_vocab[id] for id in tokens ]"
      ]
    },
    {
      "cell_type": "markdown",
      "metadata": {
        "id": "q3VKC9YY7S06"
      },
      "source": [
        "We visualize a few outputs of the learnt tokenizers to assess their working:"
      ]
    },
    {
      "cell_type": "code",
      "execution_count": 17,
      "metadata": {
        "colab": {
          "base_uri": "https://localhost:8080/"
        },
        "id": "75gjtCVW7S07",
        "outputId": "52763e49-50ce-4534-f774-fcd9ff2a53d7"
      },
      "outputs": [
        {
          "name": "stdout",
          "output_type": "stream",
          "text": [
            "Name           : दीपक\n",
            "Tokens         : [1, 274, 265, 278, 273, 2]\n",
            "Tokens (glyphs): ['[BOS]', 'द', 'ी', 'प', 'क', '[EOS]']\n",
            "Decoded        : दीपक\n",
            "\n",
            "Name           : दामोदर\n",
            "Tokens         : [1, 274, 261, 264, 282, 274, 262, 2]\n",
            "Tokens (glyphs): ['[BOS]', 'द', 'ा', 'म', 'ो', 'द', 'र', '[EOS]']\n",
            "Decoded        : दामोदर\n",
            "\n",
            "Name           : आमरिन\n",
            "Tokens         : [1, 300, 264, 262, 267, 263, 2]\n",
            "Tokens (glyphs): ['[BOS]', 'आ', 'म', 'र', 'ि', 'न', '[EOS]']\n",
            "Decoded        : आमरिन\n",
            "\n",
            "Name           : बनिता\n",
            "Tokens         : [1, 279, 263, 267, 297, 2]\n",
            "Tokens (glyphs): ['[BOS]', 'ब', 'न', 'ि', 'ता', '[EOS]']\n",
            "Decoded        : बनिता\n",
            "\n",
            "Name           : घन्स्याम\n",
            "Tokens         : [1, 259, 155, 263, 266, 268, 266, 291, 264, 2]\n",
            "Tokens (glyphs): ['[BOS]', '�', '�', 'न', '्', 'स', '्', 'या', 'म', '[EOS]']\n",
            "Decoded        : घन्स्याम\n",
            "\n"
          ]
        }
      ],
      "source": [
        "# Please do not change anything in the following cell\n",
        "\n",
        "src_id_to_token = inverse_vocabulary(src_tokenizer)\n",
        "\n",
        "for example in train_data['Name'].sample(n=5, random_state=20240227):\n",
        "    print(\"Name           :\", example)\n",
        "    tokens = src_tokenizer.encode(example)\n",
        "    print(\"Tokens         :\", tokens)\n",
        "    print(\"Tokens (glyphs):\", apply_inverse_vocab(tokens, src_id_to_token))\n",
        "    print(\"Decoded        :\", src_tokenizer.decode(tokens), end='\\n\\n')"
      ]
    },
    {
      "cell_type": "code",
      "execution_count": 18,
      "metadata": {
        "colab": {
          "base_uri": "https://localhost:8080/"
        },
        "id": "MJT2frJu7S08",
        "outputId": "9e51509a-3cd2-4652-8465-21890f062742"
      },
      "outputs": [
        {
          "name": "stdout",
          "output_type": "stream",
          "text": [
            "Name           : deepak\n",
            "Tokens         : [1, 332, 318, 110, 2]\n",
            "Tokens (glyphs): ['[BOS]', 'dee', 'pa', 'k', '[EOS]']\n",
            "Decoded        : deepak\n",
            "\n",
            "Name           : damodar\n",
            "Tokens         : [1, 103, 264, 114, 103, 261, 2]\n",
            "Tokens (glyphs): ['[BOS]', 'd', 'am', 'o', 'd', 'ar', '[EOS]']\n",
            "Decoded        : damodar\n",
            "\n",
            "Name           : aamrin\n",
            "Tokens         : [1, 100, 264, 117, 265, 2]\n",
            "Tokens (glyphs): ['[BOS]', 'a', 'am', 'r', 'in', '[EOS]']\n",
            "Decoded        : aamrin\n",
            "\n",
            "Name           : banita\n",
            "Tokens         : [1, 101, 259, 327, 2]\n",
            "Tokens (glyphs): ['[BOS]', 'b', 'an', 'ita', '[EOS]']\n",
            "Decoded        : banita\n",
            "\n",
            "Name           : ghansyam\n",
            "Tokens         : [1, 106, 345, 118, 375, 2]\n",
            "Tokens (glyphs): ['[BOS]', 'g', 'han', 's', 'yam', '[EOS]']\n",
            "Decoded        : ghansyam\n",
            "\n"
          ]
        }
      ],
      "source": [
        "# Please do not change anything in the following cell\n",
        "\n",
        "tgt_id_to_token = inverse_vocabulary(tgt_tokenizer)\n",
        "\n",
        "for example in train_data['Translation'].sample(n=5, random_state=20240227):\n",
        "    print(\"Name           :\", example)\n",
        "    tokens = tgt_tokenizer.encode(example)\n",
        "    print(\"Tokens         :\", tokens)\n",
        "    print(\"Tokens (glyphs):\", apply_inverse_vocab(tokens, tgt_id_to_token))\n",
        "    print(\"Decoded        :\", tgt_tokenizer.decode(tokens), end='\\n\\n')"
      ]
    },
    {
      "cell_type": "markdown",
      "metadata": {
        "id": "dUOLUDqy7S09"
      },
      "source": [
        "We now abstract away the tokenizer into a pytorch compatible TokenizedDataset that will handle the tokenization internally:"
      ]
    },
    {
      "cell_type": "code",
      "execution_count": 19,
      "metadata": {
        "id": "0BFaB2Nr7S09"
      },
      "outputs": [],
      "source": [
        "# Please do not change anything in the following cell\n",
        "\n",
        "class TokenizerDataset(TensorDataset):\n",
        "    \"\"\" Abstraction of the tokenizer functions as a pytorch dataset. \"\"\"\n",
        "\n",
        "    def __init__(self, data, src_tokenizer, tgt_tokenizer, src_padding=None, tgt_padding=None):\n",
        "        \"\"\" Initializes the dataset.\n",
        "\n",
        "        Args:\n",
        "            data: DataFrame of input and output strings.\n",
        "            src_tokenizer (Tokenizer): Tokenizer for the source language.\n",
        "            tgt_tokenizer (Tokenizer): Tokenizer for the target language.\n",
        "            src_padding (int, optional): Padding length for the source text. Defaults to None.\n",
        "            tgt_padding (int, optional): Padding length for the target text. Defaults to None.\n",
        "        \"\"\"\n",
        "\n",
        "        self.data = data\n",
        "        self.src_tokenizer = src_tokenizer\n",
        "        self.tgt_tokenizer = tgt_tokenizer\n",
        "        self.src_padding = src_padding\n",
        "        self.tgt_padding = tgt_padding\n",
        "\n",
        "    def collate(self, batch):\n",
        "        \"\"\" Collates data instances into a batch of tokenized tensors.\n",
        "\n",
        "        Args:\n",
        "            batch (list[tuple]): List of x, y pairs.\n",
        "\n",
        "        Returns:\n",
        "            tuple[torch.Tensor|PackedSequence, torch.Tensor|PackedSequence]: pair of tokenized tensors.\n",
        "        \"\"\"\n",
        "\n",
        "        x_batch = [ data[0] for data in batch ]\n",
        "        y_batch = [ data[1] for data in batch ]\n",
        "\n",
        "        x_batch = self.src_tokenizer.batch_encode(x_batch, self.src_padding)\n",
        "        y_batch = self.tgt_tokenizer.batch_encode(y_batch, self.tgt_padding)\n",
        "\n",
        "        if self.src_padding is None:\n",
        "            x_batch = torch.nn.utils.rnn.pack_sequence([ torch.tensor(tokens) for tokens in x_batch ], False)\n",
        "        else:\n",
        "            x_batch = torch.tensor(x_batch)\n",
        "\n",
        "        if self.tgt_padding is None:\n",
        "            y_batch = torch.nn.utils.rnn.pack_sequence([ torch.tensor(tokens) for tokens in y_batch ], False)\n",
        "        else:\n",
        "            y_batch = torch.tensor(y_batch)\n",
        "\n",
        "        return x_batch, y_batch\n",
        "\n",
        "    def __getitem__(self, index):\n",
        "        \"\"\" Returns the nth instance from the dataset.\n",
        "\n",
        "        Args:\n",
        "            index (int): Index of the instance to retrieve.\n",
        "\n",
        "        Returns:\n",
        "            tuple[str, str]: Untokenized instance pair.\n",
        "        \"\"\"\n",
        "\n",
        "        return (\n",
        "            self.data['Name'][index],\n",
        "            self.data['Translation'][index]\n",
        "        )\n",
        "\n",
        "    def __len__(self):\n",
        "        \"\"\" Returns the length of the dataset.\n",
        "\n",
        "        Returns:\n",
        "            int: Length of the dataset.\n",
        "        \"\"\"\n",
        "        return len(self.data)"
      ]
    },
    {
      "cell_type": "markdown",
      "metadata": {
        "id": "rBnISg0K7S1G"
      },
      "source": [
        "## Model-Agnostic Training"
      ]
    },
    {
      "cell_type": "markdown",
      "metadata": {
        "id": "JUF3_vkA7S1G"
      },
      "source": [
        "Next, you'll implement a Trainer to train different models, since the data and tokenizer remains the same for all models.\n",
        "\n",
        "This trainer will receive the model, a loss function, an optimizer, a training and (optionally) a validation dataset and use these to train (and validate) the model.\n",
        "\n",
        "The trainer will also take care of handling checkpoints for training, which can be used to resume training across sessions.\n",
        "\n",
        "Derived classes can also be defined to handle different architectures, as to be done in the model-specific classes below."
      ]
    },
    {
      "cell_type": "code",
      "execution_count": 20,
      "metadata": {
        "id": "Kcq8zymS7S1H"
      },
      "outputs": [],
      "source": [
        "## ==== BEGIN EVALUATION PORTION\n",
        "\n",
        "class Trainer:\n",
        "    \"\"\" Performs model training in a model-agnostic manner.\n",
        "        Requires specifying the model instance, the loss criterion to optimize,\n",
        "          the optimizer to use and the directory to save data to.\n",
        "    \"\"\"\n",
        "\n",
        "    def __init__(self, directory, model, criterion, optimizer):\n",
        "        \"\"\" Initializes the trainer.\n",
        "\n",
        "        Args:\n",
        "            directory (str): Directory to save checkpoints and the model data in.\n",
        "            model (torch.nn.Module): Torch model (must inherit `torch.nn.Module`) to train.\n",
        "            criterion (torch.nn.Function): Loss criterion, i.e., the loss function to optimize for training.\n",
        "            optimizer (torch.optim.Optimizer): Optimizer to use for training.\n",
        "        \"\"\"\n",
        "\n",
        "        self.model            = model\n",
        "        self.optimizer        = optimizer\n",
        "        self.criterion        = criterion\n",
        "        self.directory        = directory\n",
        "        self.last_checkpoint  = 0\n",
        "        self.loss_history     = { 'train': [], 'valid': [] }\n",
        "\n",
        "        os.makedirs(self.directory, exist_ok=True)\n",
        "        self.device = 'cuda' if torch.cuda.is_available() else 'cpu'\n",
        "\n",
        "    @staticmethod\n",
        "    def make_dataloader(dataset, shuffle_data=True, batch_size=8, collate_fn=None):\n",
        "        \"\"\" Create a dataloader for a torch Dataset.\n",
        "\n",
        "        Args:\n",
        "            dataset (torch.utils.data.Dataset): Dataset to process.\n",
        "            shuffle_data (bool, optional): If true, shuffles the data. Defaults to True.\n",
        "            batch_size (int, optional): Number of items per batch. Defaults to 8.\n",
        "            collate_fn (function, optional): Function to use for collating instances to a batch.\n",
        "\n",
        "        Returns:\n",
        "            torch.utils.data.DataLoader: Dataloader over the given data, post processing.\n",
        "        \"\"\"\n",
        "\n",
        "        # BEGIN CODE : trainer.make_dataloader\n",
        "\n",
        "        # ADD YOUR CODE HERE\n",
        "\n",
        "        req_loader = DataLoader(dataset, batch_size=batch_size, shuffle=shuffle_data, collate_fn=collate_fn)\n",
        "        return req_loader\n",
        "\n",
        "        # END CODE\n",
        "\n",
        "    def train_step(self, x_batch, y_batch):\n",
        "        \"\"\" Performs a step of training, on the training batch.\n",
        "\n",
        "        Args:\n",
        "            x_batch (torch.Tensor): Input batch.\n",
        "            y_batch (torch.Tensor): Output batch.\n",
        "\n",
        "        Returns:\n",
        "            float: Training loss with the current model, on this batch.\n",
        "        \"\"\"\n",
        "\n",
        "        # BEGIN CODE : trainer.train_step\n",
        "\n",
        "        # ADD YOUR CODE HERE\n",
        "\n",
        "        total_loss = 0\n",
        "        count = 0\n",
        "        for x, y in zip(x_batch, y_batch):\n",
        "            x, y = x.to(self.device), y.to(self.device)\n",
        "            self.optimizer.zero_grad()\n",
        "            y_pred = self.model(x)\n",
        "            loss = self.criterion(y_pred, y)\n",
        "            loss.backward()\n",
        "            self.optimizer.step()\n",
        "            total_loss += loss.item()\n",
        "            count += 1\n",
        "\n",
        "        return total_loss / count\n",
        "\n",
        "        # END CODE\n",
        "\n",
        "    def eval_step(self, validation_dataloader):\n",
        "        \"\"\" Perfoms an evaluation step, on the validation dataloader.\n",
        "\n",
        "        Args:\n",
        "            validation_dataloader (torch.utils.data.DataLoader): Dataloader for the validation dataset.\n",
        "\n",
        "        Returns:\n",
        "            float: Validation loss with the current model checkpoint.\n",
        "        \"\"\"\n",
        "\n",
        "        # BEGIN CODE : trainer.eval_step\n",
        "\n",
        "        # ADD YOUR CODE HERE\n",
        "\n",
        "        with torch.no_grad():\n",
        "            total_loss = 0\n",
        "            for x_batch, y_batch in validation_dataloader:\n",
        "                x_batch = x_batch.to(self.device)\n",
        "                y_batch = y_batch.to(self.device)\n",
        "\n",
        "                y_pred = self.model(x_batch)\n",
        "                loss = self.criterion(y_pred, y_batch)\n",
        "                total_loss += loss.item()\n",
        "\n",
        "        return total_loss / len(validation_dataloader)\n",
        "\n",
        "        # END CODE\n",
        "\n",
        "    def train(self, train_dataset, validation_dataset=None,\n",
        "              num_epochs=10, batch_size=8, shuffle=True,\n",
        "              save_steps=100, eval_steps=100, collate_fn=None):\n",
        "        \"\"\" Handles the training loop for the model.\n",
        "\n",
        "        Args:\n",
        "            train_dataset (torch.utils.data.Dataset): Dataset to train on.\n",
        "            validation_dataset (torch.utils.data.Dataset, optional): Data to validate on. Defaults to None.\n",
        "            num_epochs (int, optional): Number of epochs to train for. Defaults to 10.\n",
        "            batch_size (int, optional): Number of items to process per batch. Defaults to 8.\n",
        "            shuffle (bool, optional): Whether to shuffle the data or not. Defaults to True.\n",
        "            save_steps (int, optional): Number of steps post which a checkpoint should be saved. Defaults to 100.\n",
        "            eval_steps (int, optional): Number of steps post which the model should be evaluated. Defaults to 100.\n",
        "            collate_fn (function, optional): Function to use for collating instances to a batch.\n",
        "        \"\"\"\n",
        "\n",
        "        current_checkpoint = 0\n",
        "        self.model.to(self.device)\n",
        "        self.model.train()\n",
        "\n",
        "        with tqdm.tqdm(total = math.ceil(len(train_dataset) / batch_size) * num_epochs) as pbar:\n",
        "            for epoch in range(num_epochs):\n",
        "                train_dataloader      = self.make_dataloader(train_dataset, shuffle, batch_size, collate_fn)\n",
        "                if validation_dataset is not None:\n",
        "                    validation_dataloader = self.make_dataloader(validation_dataset, shuffle, batch_size, collate_fn)\n",
        "\n",
        "                for batch, (x_batch, y_batch) in enumerate(train_dataloader):\n",
        "                    pbar.set_description(f\"Epoch {epoch+1} / {num_epochs}\")\n",
        "\n",
        "                    # If we are resuming training, skip this iteration\n",
        "                    if current_checkpoint < self.last_checkpoint:\n",
        "                        current_checkpoint += 1\n",
        "                        pbar.update()\n",
        "                        continue\n",
        "\n",
        "                    # Do a step of training\n",
        "                    loss = self.train_step(x_batch, y_batch)\n",
        "                    self.loss_history['train'].append(loss)\n",
        "                    pbar.set_postfix({ 'batch': batch+1, 'loss': loss })\n",
        "\n",
        "                    current_checkpoint += 1\n",
        "                    pbar.update()\n",
        "\n",
        "                    # Evaluate after every eval_steps\n",
        "                    if (current_checkpoint) % eval_steps == 0:\n",
        "                        if validation_dataset is not None:\n",
        "                            val_loss = self.eval_step(validation_dataloader)\n",
        "                            self.loss_history['valid'].append(val_loss)\n",
        "                        else:\n",
        "                            val_loss = None\n",
        "\n",
        "                        print('[>]', f\"epoch #{epoch+1:{len(str(num_epochs))}},\",\n",
        "                              f\"batch #{batch+1:{len(str(len(train_dataloader)))}}:\",\n",
        "                              \"loss:\", f\"{loss:.8f}\", '|', \"val_loss:\", f\"{val_loss:.8f}\")\n",
        "\n",
        "                    # Save after every save_steps\n",
        "                    if (current_checkpoint) % save_steps == 0:\n",
        "                        self.save(current_checkpoint, { 'loss': loss, 'checkpoint': current_checkpoint })\n",
        "\n",
        "                    # free unused resources\n",
        "                    sync_vram()\n",
        "\n",
        "            self.save(current_checkpoint)\n",
        "\n",
        "    def resume(self):\n",
        "        \"\"\" Resumes training session from the most recent checkpoint. \"\"\"\n",
        "\n",
        "        if checkpoints := os.listdir(self.directory):\n",
        "            self.last_checkpoint = max(map(lambda x: int(x[11:]), filter(lambda x: 'checkpoint-' in x, checkpoints)))\n",
        "            checkpoint_dir = os.path.join(self.directory, f\"checkpoint-{self.last_checkpoint}\")\n",
        "            self.model.load_state_dict(torch.load(\n",
        "                os.path.join(checkpoint_dir, \"model.pt\"),\n",
        "                map_location=self.device\n",
        "            ))\n",
        "            self.model.to(self.device)\n",
        "            self.optimizer.load_state_dict(torch.load(\n",
        "                os.path.join(checkpoint_dir, \"optimizer.pt\"),\n",
        "                map_location=self.device\n",
        "            ))\n",
        "            with open(os.path.join(checkpoint_dir, \"loss.json\"), 'r', encoding='utf-8') as ifile:\n",
        "                self.loss_history = json.load(ifile)\n",
        "\n",
        "    def save(self, checkpoint=None, metadata=None):\n",
        "        \"\"\" Saves an associated model or a training checkpoint.\n",
        "\n",
        "            If a checkpoint is specified, saves a checkpoint specific directory with optimizer data\n",
        "                so that training can be resumed post that checkpoint.\n",
        "\n",
        "        Args:\n",
        "            checkpoint (int, optional): Checkpoint index. Defaults to None.\n",
        "            metadata (dict[str, any], optional): Additional metadata to save alongside a checkpoint. Defaults to None.\n",
        "        \"\"\"\n",
        "\n",
        "        if checkpoint is not None:\n",
        "            checkpoint_dir = os.path.join(self.directory, f\"checkpoint-{checkpoint}\")\n",
        "            os.makedirs(checkpoint_dir, exist_ok=True)\n",
        "            torch.save(self.model.state_dict(), os.path.join(checkpoint_dir, \"model.pt\"))\n",
        "            torch.save(self.optimizer.state_dict(), os.path.join(checkpoint_dir, \"optimizer.pt\"))\n",
        "            with open(os.path.join(checkpoint_dir, \"loss.json\"), \"w+\", encoding='utf-8') as ofile:\n",
        "                json.dump(self.loss_history, ofile, ensure_ascii=False, indent=2)\n",
        "            if metadata:\n",
        "                with open(os.path.join(checkpoint_dir, \"metadata.json\"), \"w+\", encoding='utf-8') as ofile:\n",
        "                    json.dump(metadata, ofile, ensure_ascii=False, indent=2)\n",
        "        else:\n",
        "            torch.save(self.model, os.path.join(self.directory, \"model.pt\"))\n",
        "            with open(os.path.join(self.directory, \"loss.json\"), \"w+\", encoding='utf-8') as ofile:\n",
        "                json.dump(self.loss_history, ofile, ensure_ascii=False, indent=2)\n",
        "            if metadata:\n",
        "                with open(os.path.join(self.directory, \"metadata.json\"), \"w+\", encoding='utf-8') as ofile:\n",
        "                    json.dump(metadata, ofile, ensure_ascii=False, indent=2)\n",
        "\n",
        "## ==== END EVALUATION PORTION"
      ]
    },
    {
      "cell_type": "markdown",
      "metadata": {
        "id": "ojRHAENJ7S1I"
      },
      "source": [
        "To test that the trainer works, try training a simple MLP network:"
      ]
    },
    {
      "cell_type": "code",
      "execution_count": 21,
      "metadata": {
        "id": "I8Qo2vdo7S1I"
      },
      "outputs": [],
      "source": [
        "X_train = torch.rand((500, 2))                      # (N x 2)\n",
        "X_dev   = torch.rand((20 , 2))                      # (N x 2)\n",
        "\n",
        "Y_train = (X_train[:, 0] - X_train[:, 1])[:, None]  # (N x 1)\n",
        "Y_dev   = (X_dev  [:, 0] - X_dev  [:, 1])[:, None]  # (N x 1)\n",
        "\n",
        "dummy_train_dataset = TensorDataset(X_train, Y_train)\n",
        "dummy_val_dataset   = TensorDataset(X_dev  , Y_dev  )"
      ]
    },
    {
      "cell_type": "code",
      "execution_count": 22,
      "metadata": {
        "id": "i63ykUv37S1I"
      },
      "outputs": [],
      "source": [
        "# model = torch.nn.Sequential(\n",
        "#     torch.nn.Linear(2, 4),\n",
        "#     torch.nn.ReLU(),\n",
        "#     torch.nn.Linear(4, 1)\n",
        "# )\n",
        "\n",
        "# loss_fn = torch.nn.MSELoss()\n",
        "# optimizer = torch.optim.SGD(model.parameters(), lr=0.01)\n",
        "\n",
        "# trainer = Trainer(\"mlp\", model, loss_fn, optimizer)\n",
        "# trainer.train(dummy_train_dataset, dummy_val_dataset, batch_size=10, save_steps=300)"
      ]
    },
    {
      "cell_type": "markdown",
      "metadata": {
        "id": "-4hvE3VK7S1J"
      },
      "source": [
        "## Seq-2-Seq Modeling with RNNs"
      ]
    },
    {
      "cell_type": "markdown",
      "metadata": {
        "id": "q32giBvl7S1J"
      },
      "source": [
        "In this section, you will implement an encoder-decoder network using RNNs, to learn a conditional language model for the task of translating the names to Hindi.\n",
        "\n",
        "You can use any type of RNN for this purpose: `RNN`, `GRU`, `LSTM`, etc. Consult the pytorch documentation for additional information.\n",
        "\n",
        "Additional tips for training:\n",
        "- Use regularization: Dropout, etc.\n",
        "- Use a suitable optimizer, such as Adam.\n",
        "- Format data accordingly before passing it to the trainer, using the helper functions.\n",
        "- Do you need to pad sequences when processing inputs as a batch?"
      ]
    },
    {
      "cell_type": "code",
      "execution_count": 109,
      "metadata": {
        "id": "qgJfdMYX7S1K"
      },
      "outputs": [],
      "source": [
        "## ==== BEGIN EVALUATION PORTION\n",
        "\n",
        "class RNNEncoderDecoderLM(torch.nn.Module):\n",
        "    \"\"\" Implements an Encoder-Decoder network, using RNN units. \"\"\"\n",
        "\n",
        "    # Feel free to add additional parameters to __init__\n",
        "    def __init__(self, src_vocab_size, tgt_vocab_size, embd_dims, hidden_size, num_layers=1, dropout=0.1):\n",
        "        \"\"\" Initializes the encoder-decoder network, implemented via RNNs.\n",
        "\n",
        "        Args:\n",
        "            src_vocab_size (int): Source vocabulary size.\n",
        "            tgt_vocab_size (int): Target vocabulary size.\n",
        "            embd_dims (int): Embedding dimensions.\n",
        "            hidden_size (int): Size/Dimensions for the hidden states.\n",
        "        \"\"\"\n",
        "\n",
        "        super(RNNEncoderDecoderLM, self).__init__()\n",
        "\n",
        "        # Dummy parameter to track the model device. Do not modify.\n",
        "        self._dummy_param = torch.nn.Parameter(torch.Tensor(0), requires_grad=False)\n",
        "\n",
        "        # BEGIN CODE : enc-dec-rnn.init\n",
        "\n",
        "        # ADD YOUR CODE HERE\n",
        "\n",
        "        # dropout = 0.0\n",
        "\n",
        "        self.encoder_embedding = torch.nn.Embedding(src_vocab_size, embd_dims)\n",
        "        self.decoder_embedding = torch.nn.Embedding(tgt_vocab_size, embd_dims)\n",
        "\n",
        "        self.dropout = torch.nn.Dropout(dropout)\n",
        "\n",
        "        dropout = dropout if num_layers > 1 else 0\n",
        "        self.encoder_rnn = torch.nn.GRU(embd_dims, hidden_size, num_layers=num_layers, dropout=dropout, batch_first=True, bidirectional=True)\n",
        "        self.decoder_rnn = torch.nn.GRU(embd_dims, hidden_size, num_layers=2*num_layers, dropout=dropout, batch_first=True, bidirectional= False)\n",
        "\n",
        "        self.decoder_output = torch.nn.Linear(hidden_size, tgt_vocab_size)\n",
        "\n",
        "        self.hidden_size = hidden_size\n",
        "        self.num_layers = num_layers\n",
        "\n",
        "        # END CODE\n",
        "\n",
        "    @property\n",
        "    def device(self):\n",
        "        \"\"\" Returns the device the model parameters are on. \"\"\"\n",
        "        return self._dummy_param.device\n",
        "\n",
        "    def forward(self, inputs, decoder_inputs, decoder_hidden_state=None):\n",
        "        \"\"\" Performs a forward pass over the encoder-decoder network.\n",
        "\n",
        "            Accepts inputs for the encoder, inputs for the decoder, and hidden state for\n",
        "                the decoder to continue generation after the given input.\n",
        "\n",
        "        Args:\n",
        "            inputs (torch.Tensor): tensor of shape [batch_size?, max_seq_length]\n",
        "            decoder_inputs (torch.Tensor): tensor of shape [batch_size?, 1]\n",
        "            decoder_hidden_state (any): tensor to represent decoder hidden state from time step T-1.\n",
        "\n",
        "        Returns:\n",
        "            tuple[torch.Tensor, any]: output from the decoder, and associated hidden state for the next step.\n",
        "            Decoder outputs should be log probabilities over the target vocabulary.\n",
        "        \"\"\"\n",
        "\n",
        "        # BEGIN CODE : enc-dec-rnn.forward\n",
        "\n",
        "        # ADD YOUR CODE HERE\n",
        "\n",
        "\n",
        "        is_packed = isinstance(inputs, torch.nn.utils.rnn.PackedSequence)\n",
        "\n",
        "        # Pass through embedding layer\n",
        "        if is_packed:\n",
        "            inputs_unpacked, input_lengths = torch.nn.utils.rnn.pad_packed_sequence(inputs, batch_first=True)\n",
        "            encoder_embedded = self.encoder_embedding(inputs_unpacked)\n",
        "            encoder_embedded = torch.nn.utils.rnn.pack_padded_sequence(encoder_embedded, input_lengths, batch_first=True, enforce_sorted=False)\n",
        "        else:\n",
        "            encoder_embedded = self.encoder_embedding(inputs)\n",
        "\n",
        "        # Encode the input sequence\n",
        "        encoder_output, encoder_hidden = self.encoder_rnn(encoder_embedded)\n",
        "\n",
        "        # Ensure encoder_hidden is properly formatted for decoder\n",
        "        if decoder_hidden_state is None:\n",
        "            decoder_hidden_state = encoder_hidden\n",
        "\n",
        "        # Decode (decoder_inputs are always single-step, so no packing needed)\n",
        "        decoder_embedded = self.decoder_embedding(decoder_inputs)\n",
        "        decoder_output, decoder_hidden_state = self.decoder_rnn(decoder_embedded, decoder_hidden_state)\n",
        "\n",
        "        # Project decoder output to vocabulary space\n",
        "        decoder_output = self.dropout(self.decoder_output(decoder_output))\n",
        "        decoder_output = torch.nn.functional.log_softmax(decoder_output, dim=-1)\n",
        "\n",
        "        return decoder_output, decoder_hidden_state\n",
        "\n",
        "        # END CODE\n",
        "\n",
        "    def log_probability(self, seq_x, seq_y):\n",
        "        \"\"\" Compute the conditional log probability of seq_y given seq_x, i.e., log P(seq_y | seq_x).\n",
        "\n",
        "        Args:\n",
        "            seq_x (torch.tensor): Input sequence of tokens.\n",
        "            seq_y (torch.tensor): Output sequence of tokens.\n",
        "\n",
        "        Returns:\n",
        "            float: Log probability of seq_y given seq_x\n",
        "        \"\"\"\n",
        "\n",
        "        # BEGIN CODE : enc-dec-rnn.log_probability\n",
        "\n",
        "        # ADD YOUR CODE HERE\n",
        "\n",
        "        batch_size, seq_length = seq_y.shape\n",
        "\n",
        "        # Initialize total log probability\n",
        "        total_log_prob = 0.0\n",
        "\n",
        "        # Start with the first token of seq_y as the decoder input\n",
        "        decoder_input = seq_y[:, :1]  # Initial token for each sequence\n",
        "        decoder_hidden_state = None  # Initial decoder hidden state\n",
        "\n",
        "        for t in range(1, seq_length):\n",
        "            # Forward pass for one step\n",
        "            decoder_output, decoder_hidden_state = self.forward(seq_x, decoder_input, decoder_hidden_state)\n",
        "\n",
        "            # Extract log probabilities for the actual next token\n",
        "            log_probs = decoder_output.squeeze(1).gather(1, seq_y[:, t].unsqueeze(1)).squeeze(1)\n",
        "\n",
        "            # Accumulate total log probability\n",
        "            total_log_prob += log_probs.sum()\n",
        "\n",
        "            # Update decoder input for the next step\n",
        "            decoder_input = seq_y[:, t:t+1]  # Next token as input\n",
        "\n",
        "        return total_log_prob\n",
        "\n",
        "        # END CODE\n",
        "\n",
        "## ==== END EVALUATION PORTION"
      ]
    },
    {
      "cell_type": "markdown",
      "metadata": {
        "id": "djZmH1UT7S1K"
      },
      "source": [
        "To train the above model, implement for training and evaluation steps in the `RNNEncoderDecoderTrainer` class below:"
      ]
    },
    {
      "cell_type": "code",
      "execution_count": 110,
      "metadata": {
        "id": "plixWQjn7S1K"
      },
      "outputs": [],
      "source": [
        "## ==== BEGIN EVALUATION PORTION\n",
        "\n",
        "class RNNEncoderDecoderTrainer(Trainer):\n",
        "    \"\"\" Performs model training for RNN-based Encoder-Decoder models. \"\"\"\n",
        "\n",
        "    def __init__(self, directory, model, criterion, optimizer):\n",
        "        \"\"\" Initializes the trainer.\n",
        "\n",
        "        Args:\n",
        "            directory (str): Directory to save checkpoints and the model data in.\n",
        "            model (torch.nn.Module): Torch model to train.\n",
        "            criterion (torch.nn.Function): Loss Criterion.\n",
        "            optimizer (torch.optim.Optimizer): Optimizer to use.\n",
        "        \"\"\"\n",
        "\n",
        "        super(RNNEncoderDecoderTrainer, self).__init__(directory, model, criterion, optimizer)\n",
        "\n",
        "    @staticmethod\n",
        "    def make_dataloader(dataset, shuffle_data=True, batch_size=8, collate_fn=None):\n",
        "        \"\"\" Create a dataloader for a torch Dataset.\n",
        "\n",
        "        Args:\n",
        "            dataset (torch.utils.data.Dataset): Dataset to process.\n",
        "            shuffle_data (bool, optional): If true, shuffles the data. Defaults to True.\n",
        "            batch_size (int, optional): Number of items per batch. Defaults to 8.\n",
        "            collate_fn (function, optional): Function to collate instances in a batch.\n",
        "\n",
        "        Returns:\n",
        "            torch.utils.data.DataLoader: Dataloader over the given data, post processing.\n",
        "        \"\"\"\n",
        "\n",
        "        # BEGIN CODE : rnn-enc-dec-trainer.make_dataloader\n",
        "\n",
        "        # ADD YOUR CODE HERE\n",
        "\n",
        "\n",
        "        new_dataLoader = DataLoader(dataset, batch_size=batch_size, shuffle=shuffle_data, collate_fn=collate_fn)\n",
        "        return new_dataLoader\n",
        "\n",
        "        # END CODE\n",
        "\n",
        "    def train_step(self, x_batch, y_batch):\n",
        "        \"\"\" Performs a step of training, on the training batch.\n",
        "\n",
        "        Args:\n",
        "            x_batch (torch.Tensor): Input batch tensor, of shape [batch_size, *instance_shape].\n",
        "              For RNNs this is [batch_size, src_padding] or a torch.nn.utils.rnn.PackedSequence of varying lengths per batch (depends on padding).\n",
        "            y_batch (torch.Tensor): Output batch tensor, of shape [batch_size, *instance_shape].\n",
        "              For RNNs this is [batch_size, tgt_padding] or a torch.nn.utils.rnn.PackedSequence of varying lengths per batch (depends on padding).\n",
        "\n",
        "        Returns:\n",
        "            float: Training loss with the current model, on this batch.\n",
        "        \"\"\"\n",
        "\n",
        "        # BEGIN CODE : rnn-enc-dec-trainer.train_step\n",
        "\n",
        "        # ADD YOUR CODE HERE\n",
        "\n",
        "        # def forward(self, inputs, decoder_inputs, decoder_hidden_state=None):\n",
        "\n",
        "        self.model.train()\n",
        "        self.optimizer.zero_grad()\n",
        "\n",
        "        # Move input data to the correct device\n",
        "        x_batch = x_batch.to(self.device)\n",
        "        y_batch = y_batch.to(self.device)\n",
        "\n",
        "        # Unpack if y_batch is a PackedSequence\n",
        "        if isinstance(y_batch, torch.nn.utils.rnn.PackedSequence):\n",
        "            y_unpacked, y_lengths = torch.nn.utils.rnn.pad_packed_sequence(y_batch, batch_first=True)\n",
        "        else:\n",
        "            y_unpacked = y_batch\n",
        "            y_lengths = None  # No need for lengths if it's already a tensor\n",
        "\n",
        "        batch_size, tgt_len = y_unpacked.shape\n",
        "\n",
        "        # Teacher forcing setup\n",
        "        dec_inp = y_unpacked[:, 0].unsqueeze(1)  # Initial decoder input\n",
        "        hidden = None\n",
        "        loss = 0\n",
        "\n",
        "        for t in range(1, tgt_len):\n",
        "            # Forward pass with packed inputs\n",
        "            y_pred, hidden = self.model(x_batch, dec_inp, hidden)\n",
        "\n",
        "            # Compute loss, ignoring padded values\n",
        "            if y_lengths is not None:\n",
        "                mask = (t < y_lengths).float().to(self.device)  # Mask for valid tokens\n",
        "                step_loss = self.criterion(y_pred.squeeze(1), y_unpacked[:, t]) * mask\n",
        "                loss += step_loss.sum() / mask.sum().clamp(min=1)  # Avoid division by zero\n",
        "            else:\n",
        "                loss += self.criterion(y_pred.squeeze(1), y_unpacked[:, t])\n",
        "\n",
        "            # Probabilistic teacher forcing (currently always using ground truth)\n",
        "            dec_inp = y_unpacked[:, t].unsqueeze(1)\n",
        "\n",
        "        loss = loss / (tgt_len - 1)  # Normalize over sequence length\n",
        "\n",
        "        # Backpropagation\n",
        "        loss.backward()\n",
        "        torch.nn.utils.clip_grad_norm_(self.model.parameters(), max_norm=1.0)  # Prevent exploding gradients\n",
        "        self.optimizer.step()\n",
        "\n",
        "        return loss.item()\n",
        "\n",
        "        # END CODE\n",
        "\n",
        "    def eval_step(self, validation_dataloader):\n",
        "        \"\"\" Perfoms an evaluation step, on the validation dataloader.\n",
        "\n",
        "        Args:\n",
        "            validation_dataloader (torch.utils.data.DataLoader): Dataloader for the validation dataset.\n",
        "\n",
        "        Returns:\n",
        "            float: Validation loss with the current model checkpoint.\n",
        "        \"\"\"\n",
        "\n",
        "        # BEGIN CODE : rnn-enc-dec-trainer.eval_step\n",
        "\n",
        "        # ADD YOUR CODE HERE\n",
        "        \n",
        "        self.model.eval()\n",
        "        total_loss = 0\n",
        "        with torch.no_grad():\n",
        "        \n",
        "            for x_batch, y_batch in validation_dataloader:\n",
        "            # Move input data to the correct device\n",
        "                x_batch = x_batch.to(self.device)\n",
        "                y_batch = y_batch.to(self.device)\n",
        "\n",
        "                # Unpack if y_batch is a PackedSequence\n",
        "                if isinstance(y_batch, torch.nn.utils.rnn.PackedSequence):\n",
        "                    y_unpacked, y_lengths = torch.nn.utils.rnn.pad_packed_sequence(y_batch, batch_first=True)\n",
        "                else:\n",
        "                    y_unpacked = y_batch\n",
        "                    y_lengths = None  # No need for lengths if it's already a tensor\n",
        "\n",
        "                batch_size, tgt_len = y_unpacked.shape\n",
        "\n",
        "                # Teacher forcing setup\n",
        "                dec_inp = y_unpacked[:, 0].unsqueeze(1)  # Initial decoder input\n",
        "                hidden = None\n",
        "                loss = 0\n",
        "\n",
        "                for t in range(1, tgt_len):\n",
        "                    # Forward pass with packed inputs\n",
        "                    y_pred, hidden = self.model(x_batch, dec_inp, hidden)\n",
        "\n",
        "                    # Compute loss, ignoring padded values\n",
        "                    if y_lengths is not None:\n",
        "                        mask = (t < y_lengths).float().to(self.device)  # Mask for valid tokens\n",
        "                        step_loss = self.criterion(y_pred.squeeze(1), y_unpacked[:, t]) * mask\n",
        "                        loss += step_loss.sum() / mask.sum().clamp(min=1)  # Avoid division by zero\n",
        "                    else:\n",
        "                        loss += self.criterion(y_pred.squeeze(1), y_unpacked[:, t])\n",
        "\n",
        "                    # Probabilistic teacher forcing (currently always using ground truth)\n",
        "                    dec_inp = y_unpacked[:, t].unsqueeze(1)\n",
        "\n",
        "                loss = loss / (tgt_len - 1)  # Normalize over sequence length\n",
        "\n",
        "                total_loss += loss.item()\n",
        "\n",
        "        return total_loss / len(validation_dataloader)\n",
        "\n",
        "\n",
        "        \n",
        "\n",
        "        # END CODE\n",
        "\n",
        "## ==== END EVALUATION PORTION"
      ]
    },
    {
      "cell_type": "code",
      "execution_count": 112,
      "metadata": {
        "id": "AX2RQOe87S1L"
      },
      "outputs": [],
      "source": [
        "## == BEGIN EVALUATION PORTION\n",
        "\n",
        "# Edit the hyperparameters below to your desired values.\n",
        "\n",
        "# BEGIN CODE : rnn-enc-dec.params\n",
        "\n",
        "# Add parameters related to the model here.\n",
        "rnn_enc_dec_params = {\n",
        "    'src_vocab_size': 303,\n",
        "    'tgt_vocab_size': 403,\n",
        "    'embd_dims'     : 256,\n",
        "    'hidden_size'   : 512,\n",
        "    'dropout'       : 0.3,\n",
        "    'num_layers'    : 1\n",
        "}\n",
        "\n",
        "# Add parameters related to the dataset processing here.\n",
        "rnn_enc_dec_data_params = dict(\n",
        "    src_padding=20,\n",
        "    tgt_padding=20,\n",
        ")\n",
        "\n",
        "# Add parameters related to training here.\n",
        "rnn_enc_dec_training_params = dict(\n",
        "    num_epochs=16,\n",
        "    batch_size=64,\n",
        "    shuffle=True,\n",
        "    save_steps=500,\n",
        "    eval_steps=100\n",
        ")\n",
        "\n",
        "# END CODE\n",
        "\n",
        "# Do not forget to set a deterministic seed.\n",
        "torch.manual_seed(42)\n",
        "\n",
        "model = RNNEncoderDecoderLM(**rnn_enc_dec_params)\n",
        "\n",
        "# BEGIN CODE : rnn-enc-dec.train\n",
        "\n",
        "# ADD YOUR CODE HERE\n",
        "optimizer = torch.optim.AdamW(model.parameters(), lr = 0.001, weight_decay=1e-5)\n",
        "criterion = torch.nn.NLLLoss()  # or reduction='sum' depending on your preference\n",
        "\n",
        "\n",
        "# END CODE\n",
        "\n",
        "trainer = RNNEncoderDecoderTrainer(\n",
        "    os.path.join(DIRECTORY_NAME, \"rnn.enc-dec\"),\n",
        "    model, criterion, optimizer\n",
        ")\n",
        "\n",
        "## == END EVALUATION PORTION"
      ]
    },
    {
      "cell_type": "code",
      "execution_count": 111,
      "metadata": {},
      "outputs": [],
      "source": [
        "!rm -r ./Sirjan_Hansda_22188/rnn.enc-dec/"
      ]
    },
    {
      "cell_type": "code",
      "execution_count": 113,
      "metadata": {
        "colab": {
          "base_uri": "https://localhost:8080/"
        },
        "id": "Mf1wrX8rvPpP",
        "outputId": "7ed3c5c9-20d6-441d-f270-56c74a260e78"
      },
      "outputs": [
        {
          "data": {
            "text/plain": [
              "403"
            ]
          },
          "execution_count": 113,
          "metadata": {},
          "output_type": "execute_result"
        }
      ],
      "source": [
        "rnn_enc_dec_params['tgt_vocab_size']"
      ]
    },
    {
      "cell_type": "markdown",
      "metadata": {
        "id": "mIXdHpHdvPpP"
      },
      "source": [
        "        # Check input shapes\n",
        "        print(inputs.shape)\n",
        "        print(decoder_hidden_state.shape)\n",
        "        print(decoder_inputs.shape)"
      ]
    },
    {
      "cell_type": "markdown",
      "metadata": {
        "id": "abO_5OyyvPpP"
      },
      "source": [
        "# inputs (torch.Tensor): tensor of shape [batch_size?, max_seq_length]\n",
        "#            decoder_inputs (torch.Tensor): tensor of shape [batch_size?, 1]\n",
        "#            decoder_hidden_state (any): tensor to represent decoder hidden state from time step T-1."
      ]
    },
    {
      "cell_type": "code",
      "execution_count": 114,
      "metadata": {
        "colab": {
          "base_uri": "https://localhost:8080/",
          "height": 170,
          "referenced_widgets": [
            "692e9a0ea5f64aaabb47c47f1c2f2cd2",
            "c1a80360a6254aa6b7750bc8a79a22a5",
            "8df3b239457743bb85a7a6bebda97a77",
            "bb41b65fbbf64c1892d15d49faac6b21",
            "d1b2ae7844164f75825ec8fa2a2ea8ed",
            "ce8dd6a6214e4ff9b11b4f6c1944ff0f",
            "7350ae1212b34f5d95cde66d165a150b",
            "1f4b6ff957164e42b6c3bc7efaeb6db7",
            "79e870ccc40f40d4be159d7158ac432a",
            "5e7c6275eb7b4ee2930c60a9d02cf09b",
            "0d0cbc5d92c34abea6aa645c7a423d1f"
          ]
        },
        "id": "ZGSIuMYP7S1L",
        "outputId": "ecd1005f-9c7d-42e7-8c0f-d00648f6070e"
      },
      "outputs": [
        {
          "name": "stderr",
          "output_type": "stream",
          "text": [
            "Epoch 2 / 16:   9%|▉         | 101/1136 [00:18<05:34,  3.09it/s, batch=30, loss=1.89]"
          ]
        },
        {
          "name": "stdout",
          "output_type": "stream",
          "text": [
            "[>] epoch # 2, batch #29: loss: 1.96741247 | val_loss: 0.58027978\n"
          ]
        },
        {
          "name": "stderr",
          "output_type": "stream",
          "text": [
            "Epoch 3 / 16:  18%|█▊        | 201/1136 [00:37<05:10,  3.01it/s, batch=59, loss=1.7] "
          ]
        },
        {
          "name": "stdout",
          "output_type": "stream",
          "text": [
            "[>] epoch # 3, batch #58: loss: 1.68587279 | val_loss: 0.38556883\n"
          ]
        },
        {
          "name": "stderr",
          "output_type": "stream",
          "text": [
            "Epoch 5 / 16:  26%|██▋       | 301/1136 [00:56<04:35,  3.03it/s, batch=17, loss=1.55]"
          ]
        },
        {
          "name": "stdout",
          "output_type": "stream",
          "text": [
            "[>] epoch # 5, batch #16: loss: 1.64487064 | val_loss: 0.30048927\n"
          ]
        },
        {
          "name": "stderr",
          "output_type": "stream",
          "text": [
            "Epoch 6 / 16:  35%|███▌      | 401/1136 [01:15<04:05,  2.99it/s, batch=46, loss=1.42]"
          ]
        },
        {
          "name": "stdout",
          "output_type": "stream",
          "text": [
            "[>] epoch # 6, batch #45: loss: 1.59407210 | val_loss: 0.22745972\n"
          ]
        },
        {
          "name": "stderr",
          "output_type": "stream",
          "text": [
            "Epoch 8 / 16:  44%|████▍     | 500/1136 [01:33<01:53,  5.60it/s, batch=3, loss=1.42] "
          ]
        },
        {
          "name": "stdout",
          "output_type": "stream",
          "text": [
            "[>] epoch # 8, batch # 3: loss: 1.41964412 | val_loss: 0.20659151\n"
          ]
        },
        {
          "name": "stderr",
          "output_type": "stream",
          "text": [
            "Epoch 9 / 16:  53%|█████▎    | 601/1136 [01:52<02:55,  3.05it/s, batch=33, loss=1.48]"
          ]
        },
        {
          "name": "stdout",
          "output_type": "stream",
          "text": [
            "[>] epoch # 9, batch #32: loss: 1.49623430 | val_loss: 0.19058583\n"
          ]
        },
        {
          "name": "stderr",
          "output_type": "stream",
          "text": [
            "Epoch 10 / 16:  62%|██████▏   | 701/1136 [02:11<02:24,  3.02it/s, batch=62, loss=1.49]"
          ]
        },
        {
          "name": "stdout",
          "output_type": "stream",
          "text": [
            "[>] epoch #10, batch #61: loss: 1.44758904 | val_loss: 0.17330110\n"
          ]
        },
        {
          "name": "stderr",
          "output_type": "stream",
          "text": [
            "Epoch 12 / 16:  71%|███████   | 801/1136 [02:30<01:49,  3.07it/s, batch=20, loss=1.41]"
          ]
        },
        {
          "name": "stdout",
          "output_type": "stream",
          "text": [
            "[>] epoch #12, batch #19: loss: 1.54642737 | val_loss: 0.17210379\n"
          ]
        },
        {
          "name": "stderr",
          "output_type": "stream",
          "text": [
            "Epoch 13 / 16:  79%|███████▉  | 901/1136 [02:49<01:18,  3.01it/s, batch=49, loss=1.54]"
          ]
        },
        {
          "name": "stdout",
          "output_type": "stream",
          "text": [
            "[>] epoch #13, batch #48: loss: 1.54711056 | val_loss: 0.16815128\n"
          ]
        },
        {
          "name": "stderr",
          "output_type": "stream",
          "text": [
            "Epoch 15 / 16:  88%|████████▊ | 1000/1136 [03:07<00:24,  5.53it/s, batch=6, loss=1.5] "
          ]
        },
        {
          "name": "stdout",
          "output_type": "stream",
          "text": [
            "[>] epoch #15, batch # 6: loss: 1.50085366 | val_loss: 0.17041833\n"
          ]
        },
        {
          "name": "stderr",
          "output_type": "stream",
          "text": [
            "Epoch 16 / 16:  97%|█████████▋| 1101/1136 [03:26<00:11,  3.07it/s, batch=36, loss=1.64]"
          ]
        },
        {
          "name": "stdout",
          "output_type": "stream",
          "text": [
            "[>] epoch #16, batch #35: loss: 1.36962879 | val_loss: 0.15981450\n"
          ]
        },
        {
          "name": "stderr",
          "output_type": "stream",
          "text": [
            "Epoch 16 / 16: 100%|██████████| 1136/1136 [03:33<00:00,  5.33it/s, batch=71, loss=1.1] \n"
          ]
        }
      ],
      "source": [
        "# Please do not change anything in the following cell.\n",
        "\n",
        "train_dataset      = TokenizerDataset(train_data     , src_tokenizer, tgt_tokenizer, **rnn_enc_dec_data_params)\n",
        "validation_dataset = TokenizerDataset(validation_data, src_tokenizer, tgt_tokenizer, **rnn_enc_dec_data_params)\n",
        "\n",
        "rnn_enc_dec_train_data = dict(\n",
        "    train_dataset=train_dataset,\n",
        "    validation_dataset=validation_dataset,\n",
        "    collate_fn=train_dataset.collate\n",
        ")\n",
        "\n",
        "# Resume training from the last checkpoint, if interrupted midway, else begins training from scratch.\n",
        "trainer.resume()\n",
        "\n",
        "# Train as per specified training parameters.\n",
        "trainer.train(**rnn_enc_dec_train_data, **rnn_enc_dec_training_params)"
      ]
    },
    {
      "cell_type": "code",
      "execution_count": 115,
      "metadata": {
        "id": "GtcTRlgs7S1M"
      },
      "outputs": [],
      "source": [
        "# Please do not change anything in the following cell.\n",
        "\n",
        "# Save the final model, with additional metadata.\n",
        "trainer.save(metadata={\n",
        "    'model'   : rnn_enc_dec_params,\n",
        "    'data'    : rnn_enc_dec_data_params,\n",
        "    'training': rnn_enc_dec_training_params\n",
        "})"
      ]
    },
    {
      "cell_type": "markdown",
      "metadata": {
        "id": "YUshh3Uv7S1N"
      },
      "source": [
        "To validate training, look at sample translations for different examples, and probabilities assigned to different outputs.\n",
        "\n",
        "Extensive evaluation and comparison against other approaches will be carried out later."
      ]
    },
    {
      "cell_type": "code",
      "execution_count": 116,
      "metadata": {
        "id": "USVATGO17S1O"
      },
      "outputs": [],
      "source": [
        "def rnn_greedy_generate(model, seq_x, src_tokenizer, tgt_tokenizer, max_length):\n",
        "    \"\"\" Given a source string, translate it to the target language using the trained model.\n",
        "        This function should perform greedy sampling to generate the results.\n",
        "\n",
        "    Args:\n",
        "        model (nn.Module): RNN Type Encoder-Decoder Model\n",
        "        seq_x (str): Input string to translate.\n",
        "        src_tokenizer (Tokenizer): Source language tokenizer.\n",
        "        tgt_tokenizer (Tokenizer): Target language tokenizer.\n",
        "        max_length (int): Maximum length of the target sequence to decode.\n",
        "\n",
        "    Returns:\n",
        "        str: Generated string for the given input in the target language.\n",
        "    \"\"\"\n",
        "\n",
        "    # BEGIN CODE : enc-dec-rnn.greedy_generate\n",
        "\n",
        "    # ADD YOUR CODE HERE\n",
        "\n",
        "    model.eval()  # Set model to evaluation mode\n",
        "\n",
        "    with torch.no_grad():  # Disable gradients for inference\n",
        "        # Encode input sequence and move to device\n",
        "        seq_x = src_tokenizer.encode(seq_x)\n",
        "        seq_x = torch.tensor([seq_x], dtype=torch.long).to(model.device)\n",
        "\n",
        "        # Initialize decoder input with <BOS>\n",
        "        last_word = torch.tensor([[tgt_tokenizer.special_tokens['[BOS]']]], dtype=torch.long).to(model.device)\n",
        "\n",
        "        seq_y = torch.tensor([[tgt_tokenizer.special_tokens['[BOS]']]], dtype=torch.long).to(model.device)\n",
        "        # Initialize hidden state\n",
        "        decoder_hidden = None\n",
        "\n",
        "        for _ in range(max_length):\n",
        "            # Forward pass with current input and hidden state\n",
        "            y_pred, decoder_hidden = model(seq_x, last_word, decoder_hidden)\n",
        "\n",
        "            # Select the most probable token (greedy decoding)\n",
        "            next_token = y_pred[:, -1, :].argmax(dim=-1)\n",
        "\n",
        "            # Append predicted token to sequence\n",
        "            seq_y = torch.cat([seq_y, next_token.unsqueeze(1)], dim=1)\n",
        "\n",
        "            # Stop if <EOS> is predicted\n",
        "            if next_token.item() == tgt_tokenizer.special_tokens['[EOS]']:\n",
        "                break\n",
        "\n",
        "            # Update last word with predicted token\n",
        "            last_word = next_token.unsqueeze(1)\n",
        "\n",
        "        return tgt_tokenizer.decode(seq_y.squeeze(0).tolist())\n",
        "\n",
        "    # END CODE"
      ]
    },
    {
      "cell_type": "code",
      "execution_count": 117,
      "metadata": {
        "colab": {
          "base_uri": "https://localhost:8080/"
        },
        "id": "tz4Ud06A7S1O",
        "outputId": "cf8f8d8b-c690-4ee1-92bf-375ca3f84f13"
      },
      "outputs": [
        {
          "name": "stdout",
          "output_type": "stream",
          "text": [
            "Name                      : वरिषा\n",
            "Translation (Expected)    : varisha\n",
            "Translation (Model)       : varisha\n",
            "\n",
            "Name                      : उजामा\n",
            "Translation (Expected)    : ujama\n",
            "Translation (Model)       : ujama\n",
            "\n",
            "Name                      : बिपिन\n",
            "Translation (Expected)    : bipin\n",
            "Translation (Model)       : bipin\n",
            "\n",
            "Name                      : मित्ठू\n",
            "Translation (Expected)    : mitthu\n",
            "Translation (Model)       : mitthu\n",
            "\n",
            "Name                      : रामैया\n",
            "Translation (Expected)    : ramaiya\n",
            "Translation (Model)       : ramaiya\n",
            "\n"
          ]
        }
      ],
      "source": [
        "# Please do not change anything in the following cell.\n",
        "\n",
        "for _, row in train_data.sample(n=5, random_state=42).iterrows():\n",
        "    y_pred = rnn_greedy_generate(\n",
        "        model, row['Name'], src_tokenizer, tgt_tokenizer,\n",
        "        max_length = rnn_enc_dec_data_params['tgt_padding']\n",
        "    )\n",
        "\n",
        "    print(\"Name                      :\", row['Name'])\n",
        "    print(\"Translation (Expected)    :\", row['Translation'])\n",
        "    print(\"Translation (Model)       :\", y_pred)\n",
        "\n",
        "    print()"
      ]
    },
    {
      "cell_type": "code",
      "execution_count": 118,
      "metadata": {
        "colab": {
          "base_uri": "https://localhost:8080/"
        },
        "id": "FvEL5aYR7S1O",
        "outputId": "67c041a2-958a-4092-edd3-62849886fc78"
      },
      "outputs": [
        {
          "name": "stdout",
          "output_type": "stream",
          "text": [
            "Name                      : दीन\n",
            "Translation (Expected)    : deen\n",
            "Translation (Model)       : deen\n",
            "\n",
            "Name                      : मुर्शिदा\n",
            "Translation (Expected)    : murshida\n",
            "Translation (Model)       : mursida\n",
            "\n",
            "Name                      : शबरा\n",
            "Translation (Expected)    : shabra\n",
            "Translation (Model)       : shabra\n",
            "\n",
            "Name                      : श्रीकांत\n",
            "Translation (Expected)    : shrikant\n",
            "Translation (Model)       : srikant\n",
            "\n",
            "Name                      : कौशल\n",
            "Translation (Expected)    : kaushal\n",
            "Translation (Model)       : kaushal\n",
            "\n"
          ]
        }
      ],
      "source": [
        "# Please do not change anything in the following cell.\n",
        "\n",
        "for _, row in validation_data.sample(n=5, random_state=42).iterrows():\n",
        "    y_pred = rnn_greedy_generate(\n",
        "        model, row['Name'], src_tokenizer, tgt_tokenizer,\n",
        "        max_length = rnn_enc_dec_data_params['tgt_padding']\n",
        "    )\n",
        "\n",
        "    print(\"Name                      :\", row['Name'])\n",
        "    print(\"Translation (Expected)    :\", row['Translation'])\n",
        "    print(\"Translation (Model)       :\", y_pred)\n",
        "\n",
        "    print()"
      ]
    },
    {
      "cell_type": "code",
      "execution_count": 119,
      "metadata": {
        "id": "GaoL9IUrsaFU"
      },
      "outputs": [],
      "source": [
        "# # Please do not change anything in the following cell.\n",
        "\n",
        "output_data = []\n",
        "for _, row in validation_data.iterrows():\n",
        "    y_pred = rnn_greedy_generate(\n",
        "        model, row['Name'], src_tokenizer, tgt_tokenizer,\n",
        "        max_length = rnn_enc_dec_data_params['tgt_padding']\n",
        "    )\n",
        "    output_data.append({ 'Name': row['Name'], 'Translation': y_pred })\n",
        "\n",
        "pd.DataFrame.from_records(output_data).to_csv(\n",
        "    os.path.join(DIRECTORY_NAME, \"rnn.enc-dec\", \"outputs.csv\"), index=False\n",
        ")"
      ]
    },
    {
      "cell_type": "code",
      "execution_count": 120,
      "metadata": {
        "id": "-XRDFy1U7S1P"
      },
      "outputs": [],
      "source": [
        "# Please do not change anything in the following cell.\n",
        "\n",
        "# Release resources\n",
        "if 'trainer' in globals():\n",
        "    del trainer\n",
        "\n",
        "if 'model' in globals():\n",
        "    del model\n",
        "\n",
        "sync_vram()"
      ]
    },
    {
      "cell_type": "markdown",
      "metadata": {
        "id": "gkAB3ivx7S1Q"
      },
      "source": [
        "## Seq-2-Seq Modeling with RNN + Attention"
      ]
    },
    {
      "cell_type": "markdown",
      "metadata": {
        "id": "YPpFw0Fn7S1Q"
      },
      "source": [
        "In this module, you'll augment the Encoder-Decoder architecture to utilize attention, by implementing an Attention module that attends over the representations / inputs from the encoder.\n",
        "\n",
        "Many approaches have been proposed in literature towards implementing attention. You are free to explore and use any implementation of your choice.\n",
        "\n",
        "Some popular approaches are desribed in the original [paper by Bahdanau et al., 2014 on NMT](https://arxiv.org/abs/1409.0473) and an [exploratory paper by Luong et al, 2015](https://arxiv.org/abs/1508.04025) which explores different effective approaches to attention, including global and local attention."
      ]
    },
    {
      "cell_type": "code",
      "execution_count": 77,
      "metadata": {
        "id": "l2wmAoC77S1R"
      },
      "outputs": [],
      "source": [
        "## ==== BEGIN EVALUATION PORTION\n",
        "\n",
        "class AttentionModule(torch.nn.Module):\n",
        "    \"\"\" Implements an attention module \"\"\"\n",
        "\n",
        "    # Feel free to add additional parameters to __init__\n",
        "    def __init__(self,  enc_out_dim, dec_hidden_dim, attn_dim):\n",
        "        \"\"\" Initializes the attention module.\n",
        "            Feel free to declare any parameters as required. \"\"\"\n",
        "\n",
        "        super(AttentionModule, self).__init__()\n",
        "\n",
        "        # BEGIN CODE : attn.init\n",
        "\n",
        "        # ADD YOUR CODE HERE\n",
        "\n",
        "        self.key_layer   = torch.nn.Linear(enc_out_dim, attn_dim)\n",
        "        self.value_layer = torch.nn.Linear(enc_out_dim, attn_dim)\n",
        "        # Transform decoder hidden state to query.\n",
        "        self.query_layer = torch.nn.Linear(dec_hidden_dim, attn_dim)\n",
        "        self.scale = 1.0 / (attn_dim ** 0.5)\n",
        "        # END CODE\n",
        "\n",
        "    def forward(self, encoder_outputs, decoder_hidden_state):\n",
        "        \"\"\" Performs a forward pass over the module, computing attention scores for inputs.\n",
        "\n",
        "        Args:\n",
        "            encoder_outputs (torch.Tensor): Output representations from the encoder, of shape [batch_size?, src_seq_len, output_dim].\n",
        "            decoder_hidden_state (torch.Tensor): Hidden state from the decoder at current time step, of appropriate shape as per RNN unit (with optional batch dim).\n",
        "\n",
        "        Returns:\n",
        "            torch.Tensor: Attentions scores for given inputs, of shape [batch_size?, 1, src_seq_len]\n",
        "        \"\"\"\n",
        "\n",
        "        # BEGIN CODE : attn.forward\n",
        "\n",
        "        # ADD YOUR CODE HERE\n",
        "\n",
        "        # Compute keys and values.\n",
        "        keys   = self.key_layer(encoder_outputs)   # [B, T, attn_dim]\n",
        "        values = self.value_layer(encoder_outputs)   # [B, T, attn_dim]\n",
        "        \n",
        "        # Compute query from decoder hidden state.\n",
        "        query = self.query_layer(decoder_hidden_state)     # [B, attn_dim]\n",
        "        query = query.unsqueeze(2)                   # [B, attn_dim, 1]\n",
        "        \n",
        "        # Dot-product attention (scaled)\n",
        "        scores = torch.bmm(keys, query) * self.scale  # [B, T, 1]\n",
        "        scores = scores.squeeze(2)                    # [B, T]\n",
        "        attn_weights = torch.nn.functional.softmax(scores, dim=1)         # [B, T]\n",
        "        \n",
        "        # Weighted sum of values to obtain the context vector.\n",
        "        attn_weights_unsq = attn_weights.unsqueeze(1)   # [B, 1, T]\n",
        "        context = torch.bmm(attn_weights_unsq, values)    # [B, 1, attn_dim]\n",
        "        context = context.squeeze(1)                    # [B, attn_dim]\n",
        "        \n",
        "        return context, attn_weights\n",
        "        \n",
        "        \n",
        "\n",
        "\n",
        "\n",
        "        # END CODE\n",
        "\n",
        "## ==== END EVALUATION PORTION"
      ]
    },
    {
      "cell_type": "code",
      "execution_count": 126,
      "metadata": {
        "id": "8q73WPlp7S1R"
      },
      "outputs": [],
      "source": [
        "## ==== BEGIN EVALUATION PORTION\n",
        "\n",
        "class RNNEncoderDecoderLMWithAttention(torch.nn.Module):\n",
        "    \"\"\" Implements an Encoder-Decoder network, using RNN units, augmented with attention. \"\"\"\n",
        "\n",
        "    # Feel free to add additional parameters to __init__\n",
        "    def __init__(self,src_vocab_size, tgt_vocab_size, embd_dims, hidden_size, num_layers=1, dropout=0.1):\n",
        "        \"\"\" Initializes the encoder-decoder network, implemented via RNNs.\n",
        "\n",
        "        Args:\n",
        "            src_vocab_size (int): Source vocabulary size.\n",
        "            tgt_vocab_size (int): Target vocabulary size.\n",
        "            embd_dims (int): Embedding dimensions.\n",
        "            hidden_size (int): Size/Dimensions for the hidden states.\n",
        "        \"\"\"\n",
        "\n",
        "        super(RNNEncoderDecoderLMWithAttention, self).__init__()\n",
        "\n",
        "        # Dummy parameter to track the model device. Do not modify.\n",
        "        self._dummy_param = torch.nn.Parameter(torch.Tensor(0), requires_grad=False)\n",
        "\n",
        "        # BEGIN CODE : enc-dec-rnn-attn.init\n",
        "\n",
        "        # ADD YOUR CODE HERE\n",
        "\n",
        "        self.dropout_layer = torch.nn.Dropout(dropout)\n",
        "        #self.dropout_layer = torch.nn.Identity()\n",
        "        self.encoder_embedding = torch.nn.Embedding(src_vocab_size, embd_dims)\n",
        "        self.decoder_embedding = torch.nn.Embedding(tgt_vocab_size, embd_dims)\n",
        "\n",
        "        dropout = dropout if num_layers > 1 else 0\n",
        "        self.encoder_rnn = torch.nn.GRU(embd_dims, hidden_size, num_layers=num_layers, batch_first=True, dropout=dropout, bidirectional=True)\n",
        "        self.decoder_rnn = torch.nn.GRU(embd_dims+hidden_size, hidden_size, num_layers=num_layers, batch_first=True, dropout = dropout)\n",
        "\n",
        "        self.decoder_output = torch.nn.Linear(hidden_size, tgt_vocab_size)\n",
        "\n",
        "        self.hidden_size = hidden_size\n",
        "        self.num_layers = num_layers\n",
        "        # query_dim, key_dim, value_dim, hidden_dim, output_dim, dropout=0.1\n",
        "        self.attention = AttentionModule(2*hidden_size, hidden_size, hidden_size)\n",
        "\n",
        "\n",
        "        # END CODE\n",
        "\n",
        "    @property\n",
        "    def device(self):\n",
        "        return self._dummy_param.device\n",
        "\n",
        "    def log_probability(self, seq_x, seq_y):\n",
        "        \"\"\" Compute the conditional log probability of seq_y given seq_x, i.e., log P(seq_y | seq_x).\n",
        "\n",
        "        Args:\n",
        "            seq_x (torch.tensor): Input sequence of tokens, of shape [src_seq_len] (no batch dim)\n",
        "            seq_y (torch.tensor): Output sequence of tokens, of shape [tgt_seq_len] (no batch dim)\n",
        "\n",
        "        Returns:\n",
        "            float: Log probability of generating sequence y, given sequence x.\n",
        "        \"\"\"\n",
        "\n",
        "        # BEGIN CODE : enc-dec-rnn-attn.probability\n",
        "\n",
        "        # ADD YOUR CODE HERE\n",
        "\n",
        "        self.eval()  # Set model to evaluation mode\n",
        "        with torch.no_grad():\n",
        "            # Convert seq_x and seq_y to batch format\n",
        "            seq_x = seq_x.unsqueeze(0).to(self.device)  # [1, src_seq_len]\n",
        "            seq_y = seq_y.unsqueeze(0).to(self.device)  # [1, tgt_seq_len]\n",
        "\n",
        "            # Encode the input sequence with dropout\n",
        "            encoder_embedded = self.encoder_embedding(seq_x)  # [1, src_seq_len, embd_dims]\n",
        "            encoder_output, encoder_hidden = self.encoder_rnn(encoder_embedded)\n",
        "\n",
        "            # Initialize the decoder hidden state using encoder_hidden as in forward\n",
        "            initial_hidden = []\n",
        "            for i in range(self.num_layers):\n",
        "                forward = encoder_hidden[2 * i]       # [B, hidden_dim]\n",
        "                backward = encoder_hidden[2 * i + 1]    # [B, hidden_dim]\n",
        "                combined = torch.tanh(forward + backward)  # [B, hidden_dim]\n",
        "                initial_hidden.append(combined.unsqueeze(0))\n",
        "            decoder_hidden_state = torch.cat(initial_hidden, dim=0)  # [num_layers, B, dec_hidden_dim]\n",
        "\n",
        "            # Initialize the decoder input with the BOS token (assumed to be index 1)\n",
        "            decoder_input_token = torch.tensor([[1]], dtype=torch.long, device=self.device)\n",
        "\n",
        "            total_log_prob = 0.0\n",
        "\n",
        "            # Teacher forcing: iterate over each token in seq_y (excluding BOS if desired)\n",
        "            # Here, we assume seq_y includes the full target sequence (the ground truth tokens)\n",
        "            for target_token in seq_y[0]:\n",
        "                # Embed the current decoder token\n",
        "                decoder_embedded = self.decoder_embedding(decoder_input_token)  # [1, 1, embd_dims]\n",
        "\n",
        "                # Compute attention: obtain context vector and attention weights using current hidden state\n",
        "                context_vector, _ = self.attention(encoder_output, decoder_hidden_state[-1])\n",
        "                context_vector = context_vector.unsqueeze(1)  # [1, 1, hidden_size]\n",
        "\n",
        "                # Concatenate token embedding with context vector to form decoder input\n",
        "                decoder_input = torch.cat([decoder_embedded, context_vector], dim=2)  # [1, 1, embd_dims + hidden_size]\n",
        "\n",
        "                # Pass through the decoder RNN\n",
        "                decoder_output, decoder_hidden_state = self.decoder_rnn(decoder_input, decoder_hidden_state)\n",
        "                # Compute logits and apply dropout as in forward\n",
        "                decoder_logits = self.decoder_output(decoder_output)  # [1, 1, tgt_vocab_size]\n",
        "                decoder_log_probs = torch.nn.functional.log_softmax(decoder_logits, dim=-1)  # [1, 1, tgt_vocab_size]\n",
        "\n",
        "                # Accumulate log probability for the correct target token\n",
        "                token_log_prob = decoder_log_probs[0, 0, target_token.item()]\n",
        "                total_log_prob += token_log_prob.item()\n",
        "\n",
        "                # Use teacher forcing: set next input to the current target token\n",
        "                decoder_input_token = target_token.unsqueeze(0).unsqueeze(0)\n",
        "\n",
        "            return total_log_prob\n",
        "        # END CODE\n",
        "\n",
        "    def attentions(self, seq_x, terminate_token, max_length):\n",
        "        \"\"\" Obtain attention over a sequence for decoding to the target language.\n",
        "\n",
        "        Args:\n",
        "            seq_x (torch.tensor): Tensor representing the source sequence, of shape [src_seq_len] (no batch dim)\n",
        "            terminate_token (int): Token to use as EOS, to stop generating outputs.\n",
        "            max_length (int): Maximum length to use to terminate the sampling.\n",
        "\n",
        "        Returns:\n",
        "            tuple[torch.tensor, torch.tensor]:\n",
        "                A tuple of two tensors: the attentions over individual output tokens ([tgt_seq_len, src_seq_len])\n",
        "                and the best output tokens ([tgt_seq_len]) per sequence step, based on greedy sampling.\n",
        "        \"\"\"\n",
        "\n",
        "        # BEGIN CODE : rnn-enc-dec-attn.attentions\n",
        "\n",
        "        # ADD YOUR CODE HERE\n",
        "\n",
        "        self.eval()  # set model to evaluation mode\n",
        "\n",
        "        with torch.no_grad():\n",
        "            # Convert seq_x to batch format: [1, src_seq_len]\n",
        "            seq_x = seq_x.unsqueeze(0).to(self.device)\n",
        "\n",
        "            # Encode input sequence with dropout applied (as in forward)\n",
        "            encoder_embedded = self.encoder_embedding(seq_x)  # [1, src_seq_len, embd_dims]\n",
        "            encoder_output, encoder_hidden = self.encoder_rnn(encoder_embedded)\n",
        "\n",
        "            # If no decoder hidden state is provided, build it from encoder_hidden\n",
        "            # using the same procedure as in forward (combining forward and backward states)\n",
        "            initial_hidden = []\n",
        "            for i in range(self.num_layers):\n",
        "                forward = encoder_hidden[2 * i]       # [B, hidden_dim]\n",
        "                backward = encoder_hidden[2 * i + 1]    # [B, hidden_dim]\n",
        "                combined = torch.tanh(forward + backward)  # [B, hidden_dim]\n",
        "                initial_hidden.append(combined.unsqueeze(0))\n",
        "            decoder_hidden_state = torch.cat(initial_hidden, dim=0)  # [num_layers, B, dec_hidden_dim]\n",
        "\n",
        "            # Start decoding with a BOS token (assuming index 1 as BOS; adjust if needed)\n",
        "            seq_y = torch.tensor([[1]], dtype=torch.long, device=self.device)\n",
        "\n",
        "            attentions = []\n",
        "            decoded_tokens = []\n",
        "\n",
        "            for _ in range(max_length):\n",
        "                # Embed the current decoder token\n",
        "                decoder_embedded = self.decoder_embedding(seq_y[:, -1]).unsqueeze(1)  # [1, 1, embd_dims]\n",
        "\n",
        "                # Compute attention: returns context_vector and attention weights\n",
        "                context_vector, attnention_weights = self.attention(encoder_output, decoder_hidden_state[-1])\n",
        "                context_vector = context_vector.unsqueeze(1)  # [1, 1, hidden_size]\n",
        "\n",
        "                # Prepare decoder input by concatenating token embedding with context\n",
        "                decoder_input = torch.cat([decoder_embedded, context_vector], dim=2)  # [1, 1, embd_dims + hidden_size]\n",
        "\n",
        "                # Decode one step using the current hidden state\n",
        "                decoder_output, decoder_hidden_state = self.decoder_rnn(decoder_input, decoder_hidden_state)\n",
        "                decoder_logits = self.decoder_output(decoder_output)  # [1, 1, tgt_vocab_size]\n",
        "                decoder_log_probs = torch.nn.functional.log_softmax(decoder_logits, dim=-1)\n",
        "\n",
        "                # Greedy decoding: select token with highest log probability\n",
        "                next_token = decoder_log_probs.argmax(dim=-1)  # [1, 1]\n",
        "                decoded_tokens.append(next_token.item())\n",
        "\n",
        "                # Store attention weights (remove batch dim)\n",
        "                attentions.append(attnention_weights.squeeze(0).cpu())\n",
        "\n",
        "                # Stop if the terminate token is generated\n",
        "                if next_token.item() == terminate_token:\n",
        "                    break\n",
        "\n",
        "                # Append predicted token to the decoder input sequence for next step\n",
        "                seq_y = torch.cat([seq_y, next_token], dim=1)\n",
        "\n",
        "            # Stack attention weights to form a tensor of shape [tgt_seq_len, src_seq_len]\n",
        "            attentions = torch.stack(attentions, dim=0)\n",
        "        return attentions.squeeze(), torch.tensor(decoded_tokens)\n",
        "\n",
        "\n",
        "        # END CODE\n",
        "\n",
        "    def forward(self, inputs, decoder_inputs=None, decoder_hidden_state=None, output_attention=False):\n",
        "        \"\"\" Performs a forward pass over the encoder-decoder network.\n",
        "\n",
        "            Accepts inputs for the encoder, inputs for the decoder, and hidden state for\n",
        "                the decoder to continue generation after the given input.\n",
        "\n",
        "        Args:\n",
        "            inputs (torch.Tensor): tensor of shape [batch_size?, src_seq_len]\n",
        "            decoder_inputs (torch.Tensor): Decoder inputs, as tensor of shape [batch_size?, 1]\n",
        "            decoder_hidden_state (any): tensor to represent decoder hidden state from time step T-1.\n",
        "            output_attention (bool): If true, this function should also return the\n",
        "                associated attention weights for the time step, of shape [batch_size?, 1, src_seq_len].\n",
        "\n",
        "        Returns:\n",
        "            tuple[torch.Tensor, any]: output from the decoder, and associated hidden state for the next step.\n",
        "\n",
        "            Decoder outputs should be log probabilities over the target vocabulary.\n",
        "\n",
        "        Example:\n",
        "        >>> model = RNNEncoderDecoderWithAttention(*args, **kwargs)\n",
        "        >>> output, hidden = model(..., output_attention=False)\n",
        "        >>> output, hidden, attn_weights = model(..., output_attention=True)\n",
        "        \"\"\"\n",
        "\n",
        "        # BEGIN CODE : enc-dec-rnn-attn.forward\n",
        "\n",
        "        # ADD YOUR CODE HERE\n",
        "\n",
        "        \n",
        "        \n",
        "        encoder_embedded = self.encoder_embedding(inputs)             # [batch, src_seq_len, embd_dims]\n",
        "\n",
        "        encoder_output, encoder_hidden = self.encoder_rnn(encoder_embedded)  # encoder_hidden: [num_layers, batch, hidden_size]\n",
        "\n",
        "        # If no decoder hidden state is provided, use the full encoder hidden state.\n",
        "        if decoder_hidden_state is None:\n",
        "\n",
        "            initial_hidden = []\n",
        "            for i in range(self.num_layers):\n",
        "                forward = encoder_hidden[2*i]       # [B, hidden_dim]\n",
        "                backward = encoder_hidden[2*i + 1]    # [B, hidden_dim]\n",
        "                combined = torch.tanh(forward + backward)  # [B, hidden_dim]\n",
        "                initial_hidden.append(combined.unsqueeze(0))\n",
        "\n",
        "            initial_hidden = torch.cat(initial_hidden, dim=0)  # [num_layers, B, dec_hidden_dim]\n",
        "            decoder_hidden_state = initial_hidden\n",
        "\n",
        "        decoder_embedded = self.decoder_embedding(decoder_inputs)\n",
        "\n",
        "        context_vector, attnention_weights = self.attention(encoder_output, decoder_hidden_state[-1])\n",
        "        \n",
        "        context_vector = context_vector.unsqueeze(1)  # [batch, 1, hidden_size]\n",
        "\n",
        "        decoder_input = torch.cat([decoder_embedded, context_vector], dim=2)  # [batch, 1, embd_dims + hidden_size]\n",
        "\n",
        "        decoder_output, decoder_hidden_state = self.decoder_rnn(decoder_input, decoder_hidden_state)\n",
        "\n",
        "        decoder_logits = self.dropout_layer(self.decoder_output(decoder_output))  # [batch, 1, tgt_vocab_size]\n",
        "\n",
        "        decoder_log_probs = torch.nn.functional.log_softmax(decoder_logits, dim=-1)\n",
        "\n",
        "        if output_attention:\n",
        "            return decoder_log_probs, decoder_hidden_state, attnention_weights\n",
        "\n",
        "        return decoder_log_probs, decoder_hidden_state\n",
        "\n",
        "        # END CODE\n",
        "\n",
        "## ==== END EVALUATION PORTION"
      ]
    },
    {
      "cell_type": "code",
      "execution_count": 144,
      "metadata": {
        "id": "cuLUZV167S1S"
      },
      "outputs": [],
      "source": [
        "## == BEGIN EVALUATION PORTION\n",
        "\n",
        "# Edit the hyperparameters below to your desired values.\n",
        "\n",
        "# BEGIN CODE : rnn-enc-dec-attn.params\n",
        "\n",
        "# Add parameters related to the model here.\n",
        "rnn_enc_dec_attn_params = {\n",
        "    'src_vocab_size': 303,\n",
        "    'tgt_vocab_size': 403,\n",
        "    'embd_dims'     : 256,\n",
        "    'hidden_size'   : 512,\n",
        "    'dropout'       : 0.3,\n",
        "    'num_layers'    : 1\n",
        "}\n",
        "\n",
        "# Add parameters related to the dataset processing here.\n",
        "rnn_enc_dec_attn_data_params = dict(\n",
        "    src_padding=None,\n",
        "    tgt_padding=None,\n",
        ")\n",
        "\n",
        "# Add parameters related to training here.\n",
        "rnn_enc_dec_attn_training_params = dict(\n",
        "    num_epochs=13,\n",
        "    batch_size=64,\n",
        "    shuffle=True,\n",
        "    save_steps=500,\n",
        "    eval_steps=100\n",
        ")\n",
        "\n",
        "# END CODE\n",
        "\n",
        "# Do not forget to set a deterministic seed.\n",
        "torch.manual_seed(42)\n",
        "\n",
        "model = RNNEncoderDecoderLMWithAttention(**rnn_enc_dec_attn_params)\n",
        "\n",
        "# BEGIN CODE : rnn-enc-dec-attn.train\n",
        "\n",
        "# ADD YOUR CODE HERE\n",
        "optimizer = torch.optim.AdamW(model.parameters(), lr = 0.001)\n",
        "criterion = torch.nn.NLLLoss(reduction='mean')  # or reduction='sum' depending on your preference\n",
        "\n",
        "# END CODE\n",
        "\n",
        "trainer = RNNEncoderDecoderTrainer(\n",
        "    os.path.join(DIRECTORY_NAME, \"rnn.enc-dec.attn\"),\n",
        "    model, criterion, optimizer\n",
        ")\n",
        "\n",
        "## == END EVALUATION PORTION"
      ]
    },
    {
      "cell_type": "code",
      "execution_count": 145,
      "metadata": {
        "id": "H_oypGhq7S1S",
        "outputId": "1937d0ca-92b1-4838-e863-6f462e58260b"
      },
      "outputs": [
        {
          "name": "stderr",
          "output_type": "stream",
          "text": [
            "Epoch 1 / 13:   0%|          | 0/923 [00:00<?, ?it/s]\n"
          ]
        },
        {
          "ename": "TypeError",
          "evalue": "embedding(): argument 'indices' (position 2) must be Tensor, not PackedSequence",
          "output_type": "error",
          "traceback": [
            "\u001b[31m---------------------------------------------------------------------------\u001b[39m",
            "\u001b[31mTypeError\u001b[39m                                 Traceback (most recent call last)",
            "\u001b[36mCell\u001b[39m\u001b[36m \u001b[39m\u001b[32mIn[145]\u001b[39m\u001b[32m, line 16\u001b[39m\n\u001b[32m     13\u001b[39m trainer.resume()\n\u001b[32m     15\u001b[39m \u001b[38;5;66;03m# Train as per specified training parameters.\u001b[39;00m\n\u001b[32m---> \u001b[39m\u001b[32m16\u001b[39m \u001b[43mtrainer\u001b[49m\u001b[43m.\u001b[49m\u001b[43mtrain\u001b[49m\u001b[43m(\u001b[49m\u001b[43m*\u001b[49m\u001b[43m*\u001b[49m\u001b[43mrnn_enc_dec_attn_train_data\u001b[49m\u001b[43m,\u001b[49m\u001b[43m \u001b[49m\u001b[43m*\u001b[49m\u001b[43m*\u001b[49m\u001b[43mrnn_enc_dec_attn_training_params\u001b[49m\u001b[43m)\u001b[49m\n",
            "\u001b[36mCell\u001b[39m\u001b[36m \u001b[39m\u001b[32mIn[20]\u001b[39m\u001b[32m, line 147\u001b[39m, in \u001b[36mTrainer.train\u001b[39m\u001b[34m(self, train_dataset, validation_dataset, num_epochs, batch_size, shuffle, save_steps, eval_steps, collate_fn)\u001b[39m\n\u001b[32m    144\u001b[39m     \u001b[38;5;28;01mcontinue\u001b[39;00m\n\u001b[32m    146\u001b[39m \u001b[38;5;66;03m# Do a step of training\u001b[39;00m\n\u001b[32m--> \u001b[39m\u001b[32m147\u001b[39m loss = \u001b[38;5;28;43mself\u001b[39;49m\u001b[43m.\u001b[49m\u001b[43mtrain_step\u001b[49m\u001b[43m(\u001b[49m\u001b[43mx_batch\u001b[49m\u001b[43m,\u001b[49m\u001b[43m \u001b[49m\u001b[43my_batch\u001b[49m\u001b[43m)\u001b[49m\n\u001b[32m    148\u001b[39m \u001b[38;5;28mself\u001b[39m.loss_history[\u001b[33m'\u001b[39m\u001b[33mtrain\u001b[39m\u001b[33m'\u001b[39m].append(loss)\n\u001b[32m    149\u001b[39m pbar.set_postfix({ \u001b[33m'\u001b[39m\u001b[33mbatch\u001b[39m\u001b[33m'\u001b[39m: batch+\u001b[32m1\u001b[39m, \u001b[33m'\u001b[39m\u001b[33mloss\u001b[39m\u001b[33m'\u001b[39m: loss })\n",
            "\u001b[36mCell\u001b[39m\u001b[36m \u001b[39m\u001b[32mIn[110]\u001b[39m\u001b[32m, line 84\u001b[39m, in \u001b[36mRNNEncoderDecoderTrainer.train_step\u001b[39m\u001b[34m(self, x_batch, y_batch)\u001b[39m\n\u001b[32m     80\u001b[39m loss = \u001b[32m0\u001b[39m\n\u001b[32m     82\u001b[39m \u001b[38;5;28;01mfor\u001b[39;00m t \u001b[38;5;129;01min\u001b[39;00m \u001b[38;5;28mrange\u001b[39m(\u001b[32m1\u001b[39m, tgt_len):\n\u001b[32m     83\u001b[39m     \u001b[38;5;66;03m# Forward pass with packed inputs\u001b[39;00m\n\u001b[32m---> \u001b[39m\u001b[32m84\u001b[39m     y_pred, hidden = \u001b[38;5;28;43mself\u001b[39;49m\u001b[43m.\u001b[49m\u001b[43mmodel\u001b[49m\u001b[43m(\u001b[49m\u001b[43mx_batch\u001b[49m\u001b[43m,\u001b[49m\u001b[43m \u001b[49m\u001b[43mdec_inp\u001b[49m\u001b[43m,\u001b[49m\u001b[43m \u001b[49m\u001b[43mhidden\u001b[49m\u001b[43m)\u001b[49m\n\u001b[32m     86\u001b[39m     \u001b[38;5;66;03m# Compute loss, ignoring padded values\u001b[39;00m\n\u001b[32m     87\u001b[39m     \u001b[38;5;28;01mif\u001b[39;00m y_lengths \u001b[38;5;129;01mis\u001b[39;00m \u001b[38;5;129;01mnot\u001b[39;00m \u001b[38;5;28;01mNone\u001b[39;00m:\n",
            "\u001b[36mFile \u001b[39m\u001b[32m~/miniconda3/envs/NLP3/lib/python3.13/site-packages/torch/nn/modules/module.py:1739\u001b[39m, in \u001b[36mModule._wrapped_call_impl\u001b[39m\u001b[34m(self, *args, **kwargs)\u001b[39m\n\u001b[32m   1737\u001b[39m     \u001b[38;5;28;01mreturn\u001b[39;00m \u001b[38;5;28mself\u001b[39m._compiled_call_impl(*args, **kwargs)  \u001b[38;5;66;03m# type: ignore[misc]\u001b[39;00m\n\u001b[32m   1738\u001b[39m \u001b[38;5;28;01melse\u001b[39;00m:\n\u001b[32m-> \u001b[39m\u001b[32m1739\u001b[39m     \u001b[38;5;28;01mreturn\u001b[39;00m \u001b[38;5;28;43mself\u001b[39;49m\u001b[43m.\u001b[49m\u001b[43m_call_impl\u001b[49m\u001b[43m(\u001b[49m\u001b[43m*\u001b[49m\u001b[43margs\u001b[49m\u001b[43m,\u001b[49m\u001b[43m \u001b[49m\u001b[43m*\u001b[49m\u001b[43m*\u001b[49m\u001b[43mkwargs\u001b[49m\u001b[43m)\u001b[49m\n",
            "\u001b[36mFile \u001b[39m\u001b[32m~/miniconda3/envs/NLP3/lib/python3.13/site-packages/torch/nn/modules/module.py:1750\u001b[39m, in \u001b[36mModule._call_impl\u001b[39m\u001b[34m(self, *args, **kwargs)\u001b[39m\n\u001b[32m   1745\u001b[39m \u001b[38;5;66;03m# If we don't have any hooks, we want to skip the rest of the logic in\u001b[39;00m\n\u001b[32m   1746\u001b[39m \u001b[38;5;66;03m# this function, and just call forward.\u001b[39;00m\n\u001b[32m   1747\u001b[39m \u001b[38;5;28;01mif\u001b[39;00m \u001b[38;5;129;01mnot\u001b[39;00m (\u001b[38;5;28mself\u001b[39m._backward_hooks \u001b[38;5;129;01mor\u001b[39;00m \u001b[38;5;28mself\u001b[39m._backward_pre_hooks \u001b[38;5;129;01mor\u001b[39;00m \u001b[38;5;28mself\u001b[39m._forward_hooks \u001b[38;5;129;01mor\u001b[39;00m \u001b[38;5;28mself\u001b[39m._forward_pre_hooks\n\u001b[32m   1748\u001b[39m         \u001b[38;5;129;01mor\u001b[39;00m _global_backward_pre_hooks \u001b[38;5;129;01mor\u001b[39;00m _global_backward_hooks\n\u001b[32m   1749\u001b[39m         \u001b[38;5;129;01mor\u001b[39;00m _global_forward_hooks \u001b[38;5;129;01mor\u001b[39;00m _global_forward_pre_hooks):\n\u001b[32m-> \u001b[39m\u001b[32m1750\u001b[39m     \u001b[38;5;28;01mreturn\u001b[39;00m \u001b[43mforward_call\u001b[49m\u001b[43m(\u001b[49m\u001b[43m*\u001b[49m\u001b[43margs\u001b[49m\u001b[43m,\u001b[49m\u001b[43m \u001b[49m\u001b[43m*\u001b[49m\u001b[43m*\u001b[49m\u001b[43mkwargs\u001b[49m\u001b[43m)\u001b[49m\n\u001b[32m   1752\u001b[39m result = \u001b[38;5;28;01mNone\u001b[39;00m\n\u001b[32m   1753\u001b[39m called_always_called_hooks = \u001b[38;5;28mset\u001b[39m()\n",
            "\u001b[36mCell\u001b[39m\u001b[36m \u001b[39m\u001b[32mIn[126]\u001b[39m\u001b[32m, line 228\u001b[39m, in \u001b[36mRNNEncoderDecoderLMWithAttention.forward\u001b[39m\u001b[34m(self, inputs, decoder_inputs, decoder_hidden_state, output_attention)\u001b[39m\n\u001b[32m    199\u001b[39m \u001b[38;5;250m\u001b[39m\u001b[33;03m\"\"\" Performs a forward pass over the encoder-decoder network.\u001b[39;00m\n\u001b[32m    200\u001b[39m \n\u001b[32m    201\u001b[39m \u001b[33;03m    Accepts inputs for the encoder, inputs for the decoder, and hidden state for\u001b[39;00m\n\u001b[32m   (...)\u001b[39m\u001b[32m    219\u001b[39m \u001b[33;03m>>> output, hidden, attn_weights = model(..., output_attention=True)\u001b[39;00m\n\u001b[32m    220\u001b[39m \u001b[33;03m\"\"\"\u001b[39;00m\n\u001b[32m    222\u001b[39m \u001b[38;5;66;03m# BEGIN CODE : enc-dec-rnn-attn.forward\u001b[39;00m\n\u001b[32m    223\u001b[39m \n\u001b[32m    224\u001b[39m \u001b[38;5;66;03m# ADD YOUR CODE HERE\u001b[39;00m\n\u001b[32m--> \u001b[39m\u001b[32m228\u001b[39m encoder_embedded = \u001b[38;5;28;43mself\u001b[39;49m\u001b[43m.\u001b[49m\u001b[43mencoder_embedding\u001b[49m\u001b[43m(\u001b[49m\u001b[43minputs\u001b[49m\u001b[43m)\u001b[49m             \u001b[38;5;66;03m# [batch, src_seq_len, embd_dims]\u001b[39;00m\n\u001b[32m    230\u001b[39m encoder_output, encoder_hidden = \u001b[38;5;28mself\u001b[39m.encoder_rnn(encoder_embedded)  \u001b[38;5;66;03m# encoder_hidden: [num_layers, batch, hidden_size]\u001b[39;00m\n\u001b[32m    232\u001b[39m \u001b[38;5;66;03m# If no decoder hidden state is provided, use the full encoder hidden state.\u001b[39;00m\n",
            "\u001b[36mFile \u001b[39m\u001b[32m~/miniconda3/envs/NLP3/lib/python3.13/site-packages/torch/nn/modules/module.py:1739\u001b[39m, in \u001b[36mModule._wrapped_call_impl\u001b[39m\u001b[34m(self, *args, **kwargs)\u001b[39m\n\u001b[32m   1737\u001b[39m     \u001b[38;5;28;01mreturn\u001b[39;00m \u001b[38;5;28mself\u001b[39m._compiled_call_impl(*args, **kwargs)  \u001b[38;5;66;03m# type: ignore[misc]\u001b[39;00m\n\u001b[32m   1738\u001b[39m \u001b[38;5;28;01melse\u001b[39;00m:\n\u001b[32m-> \u001b[39m\u001b[32m1739\u001b[39m     \u001b[38;5;28;01mreturn\u001b[39;00m \u001b[38;5;28;43mself\u001b[39;49m\u001b[43m.\u001b[49m\u001b[43m_call_impl\u001b[49m\u001b[43m(\u001b[49m\u001b[43m*\u001b[49m\u001b[43margs\u001b[49m\u001b[43m,\u001b[49m\u001b[43m \u001b[49m\u001b[43m*\u001b[49m\u001b[43m*\u001b[49m\u001b[43mkwargs\u001b[49m\u001b[43m)\u001b[49m\n",
            "\u001b[36mFile \u001b[39m\u001b[32m~/miniconda3/envs/NLP3/lib/python3.13/site-packages/torch/nn/modules/module.py:1750\u001b[39m, in \u001b[36mModule._call_impl\u001b[39m\u001b[34m(self, *args, **kwargs)\u001b[39m\n\u001b[32m   1745\u001b[39m \u001b[38;5;66;03m# If we don't have any hooks, we want to skip the rest of the logic in\u001b[39;00m\n\u001b[32m   1746\u001b[39m \u001b[38;5;66;03m# this function, and just call forward.\u001b[39;00m\n\u001b[32m   1747\u001b[39m \u001b[38;5;28;01mif\u001b[39;00m \u001b[38;5;129;01mnot\u001b[39;00m (\u001b[38;5;28mself\u001b[39m._backward_hooks \u001b[38;5;129;01mor\u001b[39;00m \u001b[38;5;28mself\u001b[39m._backward_pre_hooks \u001b[38;5;129;01mor\u001b[39;00m \u001b[38;5;28mself\u001b[39m._forward_hooks \u001b[38;5;129;01mor\u001b[39;00m \u001b[38;5;28mself\u001b[39m._forward_pre_hooks\n\u001b[32m   1748\u001b[39m         \u001b[38;5;129;01mor\u001b[39;00m _global_backward_pre_hooks \u001b[38;5;129;01mor\u001b[39;00m _global_backward_hooks\n\u001b[32m   1749\u001b[39m         \u001b[38;5;129;01mor\u001b[39;00m _global_forward_hooks \u001b[38;5;129;01mor\u001b[39;00m _global_forward_pre_hooks):\n\u001b[32m-> \u001b[39m\u001b[32m1750\u001b[39m     \u001b[38;5;28;01mreturn\u001b[39;00m \u001b[43mforward_call\u001b[49m\u001b[43m(\u001b[49m\u001b[43m*\u001b[49m\u001b[43margs\u001b[49m\u001b[43m,\u001b[49m\u001b[43m \u001b[49m\u001b[43m*\u001b[49m\u001b[43m*\u001b[49m\u001b[43mkwargs\u001b[49m\u001b[43m)\u001b[49m\n\u001b[32m   1752\u001b[39m result = \u001b[38;5;28;01mNone\u001b[39;00m\n\u001b[32m   1753\u001b[39m called_always_called_hooks = \u001b[38;5;28mset\u001b[39m()\n",
            "\u001b[36mFile \u001b[39m\u001b[32m~/miniconda3/envs/NLP3/lib/python3.13/site-packages/torch/nn/modules/sparse.py:190\u001b[39m, in \u001b[36mEmbedding.forward\u001b[39m\u001b[34m(self, input)\u001b[39m\n\u001b[32m    189\u001b[39m \u001b[38;5;28;01mdef\u001b[39;00m\u001b[38;5;250m \u001b[39m\u001b[34mforward\u001b[39m(\u001b[38;5;28mself\u001b[39m, \u001b[38;5;28minput\u001b[39m: Tensor) -> Tensor:\n\u001b[32m--> \u001b[39m\u001b[32m190\u001b[39m     \u001b[38;5;28;01mreturn\u001b[39;00m \u001b[43mF\u001b[49m\u001b[43m.\u001b[49m\u001b[43membedding\u001b[49m\u001b[43m(\u001b[49m\n\u001b[32m    191\u001b[39m \u001b[43m        \u001b[49m\u001b[38;5;28;43minput\u001b[39;49m\u001b[43m,\u001b[49m\n\u001b[32m    192\u001b[39m \u001b[43m        \u001b[49m\u001b[38;5;28;43mself\u001b[39;49m\u001b[43m.\u001b[49m\u001b[43mweight\u001b[49m\u001b[43m,\u001b[49m\n\u001b[32m    193\u001b[39m \u001b[43m        \u001b[49m\u001b[38;5;28;43mself\u001b[39;49m\u001b[43m.\u001b[49m\u001b[43mpadding_idx\u001b[49m\u001b[43m,\u001b[49m\n\u001b[32m    194\u001b[39m \u001b[43m        \u001b[49m\u001b[38;5;28;43mself\u001b[39;49m\u001b[43m.\u001b[49m\u001b[43mmax_norm\u001b[49m\u001b[43m,\u001b[49m\n\u001b[32m    195\u001b[39m \u001b[43m        \u001b[49m\u001b[38;5;28;43mself\u001b[39;49m\u001b[43m.\u001b[49m\u001b[43mnorm_type\u001b[49m\u001b[43m,\u001b[49m\n\u001b[32m    196\u001b[39m \u001b[43m        \u001b[49m\u001b[38;5;28;43mself\u001b[39;49m\u001b[43m.\u001b[49m\u001b[43mscale_grad_by_freq\u001b[49m\u001b[43m,\u001b[49m\n\u001b[32m    197\u001b[39m \u001b[43m        \u001b[49m\u001b[38;5;28;43mself\u001b[39;49m\u001b[43m.\u001b[49m\u001b[43msparse\u001b[49m\u001b[43m,\u001b[49m\n\u001b[32m    198\u001b[39m \u001b[43m    \u001b[49m\u001b[43m)\u001b[49m\n",
            "\u001b[36mFile \u001b[39m\u001b[32m~/miniconda3/envs/NLP3/lib/python3.13/site-packages/torch/nn/functional.py:2551\u001b[39m, in \u001b[36membedding\u001b[39m\u001b[34m(input, weight, padding_idx, max_norm, norm_type, scale_grad_by_freq, sparse)\u001b[39m\n\u001b[32m   2545\u001b[39m     \u001b[38;5;66;03m# Note [embedding_renorm set_grad_enabled]\u001b[39;00m\n\u001b[32m   2546\u001b[39m     \u001b[38;5;66;03m# XXX: equivalent to\u001b[39;00m\n\u001b[32m   2547\u001b[39m     \u001b[38;5;66;03m# with torch.no_grad():\u001b[39;00m\n\u001b[32m   2548\u001b[39m     \u001b[38;5;66;03m#   torch.embedding_renorm_\u001b[39;00m\n\u001b[32m   2549\u001b[39m     \u001b[38;5;66;03m# remove once script supports set_grad_enabled\u001b[39;00m\n\u001b[32m   2550\u001b[39m     _no_grad_embedding_renorm_(weight, \u001b[38;5;28minput\u001b[39m, max_norm, norm_type)\n\u001b[32m-> \u001b[39m\u001b[32m2551\u001b[39m \u001b[38;5;28;01mreturn\u001b[39;00m \u001b[43mtorch\u001b[49m\u001b[43m.\u001b[49m\u001b[43membedding\u001b[49m\u001b[43m(\u001b[49m\u001b[43mweight\u001b[49m\u001b[43m,\u001b[49m\u001b[43m \u001b[49m\u001b[38;5;28;43minput\u001b[39;49m\u001b[43m,\u001b[49m\u001b[43m \u001b[49m\u001b[43mpadding_idx\u001b[49m\u001b[43m,\u001b[49m\u001b[43m \u001b[49m\u001b[43mscale_grad_by_freq\u001b[49m\u001b[43m,\u001b[49m\u001b[43m \u001b[49m\u001b[43msparse\u001b[49m\u001b[43m)\u001b[49m\n",
            "\u001b[31mTypeError\u001b[39m: embedding(): argument 'indices' (position 2) must be Tensor, not PackedSequence"
          ]
        }
      ],
      "source": [
        "# Please do not change anything in the following cell.\n",
        "\n",
        "train_dataset      = TokenizerDataset(train_data     , src_tokenizer, tgt_tokenizer, **rnn_enc_dec_attn_data_params)\n",
        "validation_dataset = TokenizerDataset(validation_data, src_tokenizer, tgt_tokenizer, **rnn_enc_dec_attn_data_params)\n",
        "\n",
        "rnn_enc_dec_attn_train_data = dict(\n",
        "    train_dataset=train_dataset,\n",
        "    validation_dataset=validation_dataset,\n",
        "    collate_fn=train_dataset.collate\n",
        ")\n",
        "\n",
        "# Resume training from the last checkpoint, if interrupted midway, otherwise starts from scratch.\n",
        "trainer.resume()\n",
        "\n",
        "# Train as per specified training parameters.\n",
        "trainer.train(**rnn_enc_dec_attn_train_data, **rnn_enc_dec_attn_training_params)"
      ]
    },
    {
      "cell_type": "code",
      "execution_count": 143,
      "metadata": {},
      "outputs": [],
      "source": [
        "!rm -r ./Sirjan_Hansda_22188/rnn.enc-dec.attn/"
      ]
    },
    {
      "cell_type": "code",
      "execution_count": 131,
      "metadata": {
        "id": "bAYwB5i47S1T"
      },
      "outputs": [],
      "source": [
        "# Please do not change anything in the following cell.\n",
        "\n",
        "# Save the final model, with additional metadata.\n",
        "trainer.save(metadata={\n",
        "    'model'   : rnn_enc_dec_attn_params,\n",
        "    'data'    : rnn_enc_dec_attn_data_params,\n",
        "    'training': rnn_enc_dec_attn_training_params\n",
        "})"
      ]
    },
    {
      "cell_type": "markdown",
      "metadata": {
        "id": "0qIb8Qkg7S1T"
      },
      "source": [
        "We can validate the model using a few simple tests as below:"
      ]
    },
    {
      "cell_type": "code",
      "execution_count": 132,
      "metadata": {
        "id": "f1RKp9rM7S1T",
        "outputId": "12955f5c-8631-4888-a609-4ace572e285a"
      },
      "outputs": [
        {
          "name": "stdout",
          "output_type": "stream",
          "text": [
            "Name                      : वरिषा\n",
            "Translation (Expected)    : varisha\n",
            "Translation (Model)       : vinasha\n",
            "\n",
            "Name                      : उजामा\n",
            "Translation (Expected)    : ujama\n",
            "Translation (Model)       : ujama\n",
            "\n",
            "Name                      : बिपिन\n",
            "Translation (Expected)    : bipin\n",
            "Translation (Model)       : bipin\n",
            "\n",
            "Name                      : मित्ठू\n",
            "Translation (Expected)    : mitthu\n",
            "Translation (Model)       : mitthu\n",
            "\n",
            "Name                      : रामैया\n",
            "Translation (Expected)    : ramaiya\n",
            "Translation (Model)       : ramaiya\n",
            "\n"
          ]
        }
      ],
      "source": [
        "# Please do not change anything in the following cell.\n",
        "\n",
        "for _, row in train_data.sample(n=5, random_state=42).iterrows():\n",
        "    y_pred = rnn_greedy_generate(\n",
        "        model, row['Name'], src_tokenizer, tgt_tokenizer,\n",
        "        max_length = rnn_enc_dec_attn_data_params['tgt_padding']\n",
        "    )\n",
        "\n",
        "    print(\"Name                      :\", row['Name'])\n",
        "    print(\"Translation (Expected)    :\", row['Translation'])\n",
        "    print(\"Translation (Model)       :\", y_pred)\n",
        "    print()\n",
        "\n",
        "\n"
      ]
    },
    {
      "cell_type": "code",
      "execution_count": 133,
      "metadata": {
        "id": "rt6MLKYX7S1U",
        "outputId": "48036c47-af37-4ef7-9d29-252c89910508"
      },
      "outputs": [
        {
          "name": "stdout",
          "output_type": "stream",
          "text": [
            "Name                      : दीन\n",
            "Translation (Expected)    : deen\n",
            "Translation (Model)       : deen\n",
            "\n",
            "Name                      : मुर्शिदा\n",
            "Translation (Expected)    : murshida\n",
            "Translation (Model)       : munshida\n",
            "\n",
            "Name                      : शबरा\n",
            "Translation (Expected)    : shabra\n",
            "Translation (Model)       : shabra\n",
            "\n",
            "Name                      : श्रीकांत\n",
            "Translation (Expected)    : shrikant\n",
            "Translation (Model)       : srikant\n",
            "\n",
            "Name                      : कौशल\n",
            "Translation (Expected)    : kaushal\n",
            "Translation (Model)       : kaushal\n",
            "\n"
          ]
        }
      ],
      "source": [
        "# Please do not change anything in the following cell.\n",
        "\n",
        "for _, row in validation_data.sample(n=5, random_state=42).iterrows():\n",
        "    y_pred = rnn_greedy_generate(\n",
        "        model, row['Name'], src_tokenizer, tgt_tokenizer,\n",
        "        max_length = rnn_enc_dec_attn_data_params['tgt_padding']\n",
        "    )\n",
        "\n",
        "    print(\"Name                      :\", row['Name'])\n",
        "    print(\"Translation (Expected)    :\", row['Translation'])\n",
        "    print(\"Translation (Model)       :\", y_pred)\n",
        "\n",
        "    print()"
      ]
    },
    {
      "cell_type": "markdown",
      "metadata": {
        "id": "i8BHmGBR7S1U"
      },
      "source": [
        "It may also be useful to look at attention maps for different examples:"
      ]
    },
    {
      "cell_type": "code",
      "execution_count": 134,
      "metadata": {
        "id": "1KM7dAFi7S1U"
      },
      "outputs": [],
      "source": [
        "# Please do not change anything in the following cell.\n",
        "\n",
        "def visualize_attention(src_glyphs, tgt_glyphs, attention, axes):\n",
        "    axes.matshow(attention.numpy(), cmap='bone')\n",
        "\n",
        "    axes.set_xticks(numpy.arange(len(src_glyphs)), labels=src_glyphs)\n",
        "    axes.set_yticks(numpy.arange(len(tgt_glyphs)), labels=tgt_glyphs)"
      ]
    },
    {
      "cell_type": "code",
      "execution_count": 135,
      "metadata": {
        "id": "OixmEkuF7S1V",
        "outputId": "a13efa9e-0767-4d60-97b7-b269d33d89aa"
      },
      "outputs": [
        {
          "name": "stderr",
          "output_type": "stream",
          "text": [
            "/home/sirjanhansda/miniconda3/envs/NLP3/lib/python3.13/site-packages/IPython/core/events.py:82: UserWarning: Glyph 108 (l) missing from font(s) Samyak Devanagari.\n",
            "  func(*args, **kwargs)\n",
            "/home/sirjanhansda/miniconda3/envs/NLP3/lib/python3.13/site-packages/IPython/core/events.py:82: UserWarning: Glyph 112 (p) missing from font(s) Samyak Devanagari.\n",
            "  func(*args, **kwargs)\n",
            "/home/sirjanhansda/miniconda3/envs/NLP3/lib/python3.13/site-packages/IPython/core/events.py:82: UserWarning: Glyph 91 ([) missing from font(s) Samyak Devanagari.\n",
            "  func(*args, **kwargs)\n",
            "/home/sirjanhansda/miniconda3/envs/NLP3/lib/python3.13/site-packages/IPython/core/events.py:82: UserWarning: Glyph 66 (B) missing from font(s) Samyak Devanagari.\n",
            "  func(*args, **kwargs)\n",
            "/home/sirjanhansda/miniconda3/envs/NLP3/lib/python3.13/site-packages/IPython/core/events.py:82: UserWarning: Glyph 79 (O) missing from font(s) Samyak Devanagari.\n",
            "  func(*args, **kwargs)\n",
            "/home/sirjanhansda/miniconda3/envs/NLP3/lib/python3.13/site-packages/IPython/core/events.py:82: UserWarning: Glyph 83 (S) missing from font(s) Samyak Devanagari.\n",
            "  func(*args, **kwargs)\n",
            "/home/sirjanhansda/miniconda3/envs/NLP3/lib/python3.13/site-packages/IPython/core/events.py:82: UserWarning: Glyph 93 (]) missing from font(s) Samyak Devanagari.\n",
            "  func(*args, **kwargs)\n",
            "/home/sirjanhansda/miniconda3/envs/NLP3/lib/python3.13/site-packages/IPython/core/events.py:82: UserWarning: Glyph 65533 (\\N{REPLACEMENT CHARACTER}) missing from font(s) Samyak Devanagari.\n",
            "  func(*args, **kwargs)\n",
            "/home/sirjanhansda/miniconda3/envs/NLP3/lib/python3.13/site-packages/IPython/core/events.py:82: UserWarning: Glyph 69 (E) missing from font(s) Samyak Devanagari.\n",
            "  func(*args, **kwargs)\n",
            "/home/sirjanhansda/miniconda3/envs/NLP3/lib/python3.13/site-packages/IPython/core/events.py:82: UserWarning: Glyph 118 (v) missing from font(s) Samyak Devanagari.\n",
            "  func(*args, **kwargs)\n",
            "/home/sirjanhansda/miniconda3/envs/NLP3/lib/python3.13/site-packages/IPython/core/events.py:82: UserWarning: Glyph 105 (i) missing from font(s) Samyak Devanagari.\n",
            "  func(*args, **kwargs)\n",
            "/home/sirjanhansda/miniconda3/envs/NLP3/lib/python3.13/site-packages/IPython/core/events.py:82: UserWarning: Glyph 110 (n) missing from font(s) Samyak Devanagari.\n",
            "  func(*args, **kwargs)\n",
            "/home/sirjanhansda/miniconda3/envs/NLP3/lib/python3.13/site-packages/IPython/core/events.py:82: UserWarning: Glyph 97 (a) missing from font(s) Samyak Devanagari.\n",
            "  func(*args, **kwargs)\n",
            "/home/sirjanhansda/miniconda3/envs/NLP3/lib/python3.13/site-packages/IPython/core/events.py:82: UserWarning: Glyph 115 (s) missing from font(s) Samyak Devanagari.\n",
            "  func(*args, **kwargs)\n",
            "/home/sirjanhansda/miniconda3/envs/NLP3/lib/python3.13/site-packages/IPython/core/events.py:82: UserWarning: Glyph 104 (h) missing from font(s) Samyak Devanagari.\n",
            "  func(*args, **kwargs)\n",
            "/home/sirjanhansda/miniconda3/envs/NLP3/lib/python3.13/site-packages/IPython/core/events.py:82: UserWarning: Glyph 117 (u) missing from font(s) Samyak Devanagari.\n",
            "  func(*args, **kwargs)\n",
            "/home/sirjanhansda/miniconda3/envs/NLP3/lib/python3.13/site-packages/IPython/core/events.py:82: UserWarning: Glyph 106 (j) missing from font(s) Samyak Devanagari.\n",
            "  func(*args, **kwargs)\n",
            "/home/sirjanhansda/miniconda3/envs/NLP3/lib/python3.13/site-packages/IPython/core/events.py:82: UserWarning: Glyph 109 (m) missing from font(s) Samyak Devanagari.\n",
            "  func(*args, **kwargs)\n",
            "/home/sirjanhansda/miniconda3/envs/NLP3/lib/python3.13/site-packages/IPython/core/events.py:82: UserWarning: Glyph 98 (b) missing from font(s) Samyak Devanagari.\n",
            "  func(*args, **kwargs)\n",
            "/home/sirjanhansda/miniconda3/envs/NLP3/lib/python3.13/site-packages/IPython/core/events.py:82: UserWarning: Glyph 116 (t) missing from font(s) Samyak Devanagari.\n",
            "  func(*args, **kwargs)\n",
            "/home/sirjanhansda/miniconda3/envs/NLP3/lib/python3.13/site-packages/IPython/core/pylabtools.py:170: UserWarning: Glyph 108 (l) missing from font(s) Samyak Devanagari.\n",
            "  fig.canvas.print_figure(bytes_io, **kw)\n",
            "/home/sirjanhansda/miniconda3/envs/NLP3/lib/python3.13/site-packages/IPython/core/pylabtools.py:170: UserWarning: Glyph 112 (p) missing from font(s) Samyak Devanagari.\n",
            "  fig.canvas.print_figure(bytes_io, **kw)\n",
            "/home/sirjanhansda/miniconda3/envs/NLP3/lib/python3.13/site-packages/IPython/core/pylabtools.py:170: UserWarning: Glyph 91 ([) missing from font(s) Samyak Devanagari.\n",
            "  fig.canvas.print_figure(bytes_io, **kw)\n",
            "/home/sirjanhansda/miniconda3/envs/NLP3/lib/python3.13/site-packages/IPython/core/pylabtools.py:170: UserWarning: Glyph 66 (B) missing from font(s) Samyak Devanagari.\n",
            "  fig.canvas.print_figure(bytes_io, **kw)\n",
            "/home/sirjanhansda/miniconda3/envs/NLP3/lib/python3.13/site-packages/IPython/core/pylabtools.py:170: UserWarning: Glyph 79 (O) missing from font(s) Samyak Devanagari.\n",
            "  fig.canvas.print_figure(bytes_io, **kw)\n",
            "/home/sirjanhansda/miniconda3/envs/NLP3/lib/python3.13/site-packages/IPython/core/pylabtools.py:170: UserWarning: Glyph 83 (S) missing from font(s) Samyak Devanagari.\n",
            "  fig.canvas.print_figure(bytes_io, **kw)\n",
            "/home/sirjanhansda/miniconda3/envs/NLP3/lib/python3.13/site-packages/IPython/core/pylabtools.py:170: UserWarning: Glyph 93 (]) missing from font(s) Samyak Devanagari.\n",
            "  fig.canvas.print_figure(bytes_io, **kw)\n",
            "/home/sirjanhansda/miniconda3/envs/NLP3/lib/python3.13/site-packages/IPython/core/pylabtools.py:170: UserWarning: Glyph 65533 (\\N{REPLACEMENT CHARACTER}) missing from font(s) Samyak Devanagari.\n",
            "  fig.canvas.print_figure(bytes_io, **kw)\n",
            "/home/sirjanhansda/miniconda3/envs/NLP3/lib/python3.13/site-packages/IPython/core/pylabtools.py:170: UserWarning: Glyph 69 (E) missing from font(s) Samyak Devanagari.\n",
            "  fig.canvas.print_figure(bytes_io, **kw)\n",
            "/home/sirjanhansda/miniconda3/envs/NLP3/lib/python3.13/site-packages/IPython/core/pylabtools.py:170: UserWarning: Glyph 118 (v) missing from font(s) Samyak Devanagari.\n",
            "  fig.canvas.print_figure(bytes_io, **kw)\n",
            "/home/sirjanhansda/miniconda3/envs/NLP3/lib/python3.13/site-packages/IPython/core/pylabtools.py:170: UserWarning: Glyph 105 (i) missing from font(s) Samyak Devanagari.\n",
            "  fig.canvas.print_figure(bytes_io, **kw)\n",
            "/home/sirjanhansda/miniconda3/envs/NLP3/lib/python3.13/site-packages/IPython/core/pylabtools.py:170: UserWarning: Glyph 110 (n) missing from font(s) Samyak Devanagari.\n",
            "  fig.canvas.print_figure(bytes_io, **kw)\n",
            "/home/sirjanhansda/miniconda3/envs/NLP3/lib/python3.13/site-packages/IPython/core/pylabtools.py:170: UserWarning: Glyph 97 (a) missing from font(s) Samyak Devanagari.\n",
            "  fig.canvas.print_figure(bytes_io, **kw)\n",
            "/home/sirjanhansda/miniconda3/envs/NLP3/lib/python3.13/site-packages/IPython/core/pylabtools.py:170: UserWarning: Glyph 115 (s) missing from font(s) Samyak Devanagari.\n",
            "  fig.canvas.print_figure(bytes_io, **kw)\n",
            "/home/sirjanhansda/miniconda3/envs/NLP3/lib/python3.13/site-packages/IPython/core/pylabtools.py:170: UserWarning: Glyph 104 (h) missing from font(s) Samyak Devanagari.\n",
            "  fig.canvas.print_figure(bytes_io, **kw)\n",
            "/home/sirjanhansda/miniconda3/envs/NLP3/lib/python3.13/site-packages/IPython/core/pylabtools.py:170: UserWarning: Glyph 117 (u) missing from font(s) Samyak Devanagari.\n",
            "  fig.canvas.print_figure(bytes_io, **kw)\n",
            "/home/sirjanhansda/miniconda3/envs/NLP3/lib/python3.13/site-packages/IPython/core/pylabtools.py:170: UserWarning: Glyph 106 (j) missing from font(s) Samyak Devanagari.\n",
            "  fig.canvas.print_figure(bytes_io, **kw)\n",
            "/home/sirjanhansda/miniconda3/envs/NLP3/lib/python3.13/site-packages/IPython/core/pylabtools.py:170: UserWarning: Glyph 109 (m) missing from font(s) Samyak Devanagari.\n",
            "  fig.canvas.print_figure(bytes_io, **kw)\n",
            "/home/sirjanhansda/miniconda3/envs/NLP3/lib/python3.13/site-packages/IPython/core/pylabtools.py:170: UserWarning: Glyph 98 (b) missing from font(s) Samyak Devanagari.\n",
            "  fig.canvas.print_figure(bytes_io, **kw)\n",
            "/home/sirjanhansda/miniconda3/envs/NLP3/lib/python3.13/site-packages/IPython/core/pylabtools.py:170: UserWarning: Glyph 116 (t) missing from font(s) Samyak Devanagari.\n",
            "  fig.canvas.print_figure(bytes_io, **kw)\n"
          ]
        },
        {
          "data": {
            "image/png": "[encoded data removed]",
            "text/plain": [
              "<Figure size 1200x1000 with 4 Axes>"
            ]
          },
          "metadata": {},
          "output_type": "display_data"
        }
      ],
      "source": [
        "# Please do not change anything in the following cell.\n",
        "\n",
        "pyplot.figure(figsize=(12, 10))\n",
        "\n",
        "src_id_to_token = inverse_vocabulary(src_tokenizer)\n",
        "tgt_id_to_token = inverse_vocabulary(tgt_tokenizer)\n",
        "\n",
        "with torch.no_grad():\n",
        "    for i, row in train_data.sample(n=4, random_state=42, ignore_index=True).iterrows():\n",
        "        src_tokens = torch.tensor(src_tokenizer.encode(row['Name']))\n",
        "        attentions, tgt_tokens = model.attentions(src_tokens, tgt_tokenizer.get_special_tokens()['[EOS]'], max_length=50)\n",
        "        src_glyphs = apply_inverse_vocab(src_tokens.tolist(), src_id_to_token)\n",
        "        tgt_glyphs = apply_inverse_vocab(tgt_tokens.tolist(), tgt_id_to_token)\n",
        "        axes = pyplot.subplot(2, 2, i+1)\n",
        "        visualize_attention(src_glyphs, tgt_glyphs, attentions, axes)"
      ]
    },
    {
      "cell_type": "code",
      "execution_count": 95,
      "metadata": {
        "id": "qE1PU0k9s8Ds"
      },
      "outputs": [],
      "source": [
        "# Please do not change anything in the following cell.\n",
        "\n",
        "output_data = []\n",
        "for _, row in validation_data.iterrows():\n",
        "    y_pred = rnn_greedy_generate(\n",
        "        model, row['Name'], src_tokenizer, tgt_tokenizer,\n",
        "        max_length = rnn_enc_dec_attn_data_params['tgt_padding']\n",
        "    )\n",
        "    output_data.append({ 'Name': row['Name'], 'Translation': y_pred })\n",
        "\n",
        "pd.DataFrame.from_records(output_data).to_csv(\n",
        "    os.path.join(DIRECTORY_NAME, \"rnn.enc-dec.attn\", \"outputs.csv\"), index=False\n",
        ")"
      ]
    },
    {
      "cell_type": "code",
      "execution_count": 96,
      "metadata": {
        "id": "aQ7Qndm47S1V"
      },
      "outputs": [],
      "source": [
        "# Please do not change anything in the following cell.\n",
        "\n",
        "# Release resources\n",
        "if 'trainer' in globals():\n",
        "    del trainer\n",
        "\n",
        "if 'model' in globals():\n",
        "    del model\n",
        "\n",
        "sync_vram()"
      ]
    },
    {
      "cell_type": "markdown",
      "metadata": {
        "id": "998loM887S1W"
      },
      "source": [
        "## Evaluation"
      ]
    },
    {
      "cell_type": "markdown",
      "metadata": {
        "id": "_tm4zQ637S1W"
      },
      "source": [
        "In the last few modules, you have implemented different approaches towards transliteration of Indian names to English. To assess how well different systems perform, it is useful to compute different metrics, which assess different properties:\n",
        "\n",
        "- **Accuracy**: From a parallel corpus, number of translations the model got exactly right. Higher the better. Note that this makes sense only for this task. and lacks granularity.\n",
        "- **Edit Distance**: Number of edits at the character level (insertions, deletions, substitutions) required to transform your model's outputs to a reference translation. Lower the better.\n",
        "- **Character Error Rate (CER)**: The rate at which your system/model makes mistakes at the character level. Lower the better.\n",
        "- **Token Error Rate (TER)**: The rate at which your system/model makes mistakes at the token level. Lower the better. Depending on your tokenizer implementation, could be the same as CER.\n",
        "- **BiLingual Evaluation Understudy (BLEU)**: Proposed by [Papineni et al., 2002](https://aclanthology.org/P02-1040/), BLEU is a metric that assess the quality of a translation against reference translations through assessing n-gram overlap. Higher the better.\n",
        "\n",
        "Since accents and half-letters exist as separate characters in the Unicode specification, and can change the interpretation of the output, metrics that operate at the character level will treat these separately."
      ]
    },
    {
      "cell_type": "code",
      "execution_count": 136,
      "metadata": {
        "id": "4V2mXdKh7S1W"
      },
      "outputs": [],
      "source": [
        "# Please do not change anything in the following cell.\n",
        "\n",
        "class Evaluator:\n",
        "    \"\"\" Class to handle all the logic concerning the evaluation of trained models.  \"\"\"\n",
        "\n",
        "    def __init__(self, src_tokenizer, tgt_tokenizer) -> None:\n",
        "        \"\"\" Initializes the evaluator.\n",
        "\n",
        "        Args:\n",
        "            src_tokenizer (Tokenizer): Tokenizer for input strings in the source language.\n",
        "            tgt_tokenizer (Tokenizer): Tokenizer for output strings in the target language.\n",
        "        \"\"\"\n",
        "\n",
        "        self.device = 'cuda' if torch.cuda.is_available() else 'cpu'\n",
        "        self.src_tokenizer = src_tokenizer\n",
        "        self.tgt_tokenizer = tgt_tokenizer\n",
        "        self.decoding_method = None\n",
        "\n",
        "    def set_decoding_method(self, decoding_method):\n",
        "        \"\"\" Sets the decoding method to use with models.\n",
        "                The evaluation function will use the set decoding method to generate outputs from the model.\n",
        "\n",
        "        Args:\n",
        "            decoding_method (function): Decoding method.\n",
        "                Must accept the model instance, the input string, and tokenizers as arguments.\n",
        "                Can accept additional arguments if required.\n",
        "        \"\"\"\n",
        "\n",
        "        self.decoding_method = decoding_method\n",
        "\n",
        "    @staticmethod\n",
        "    def decompose(string):\n",
        "        \"\"\" Decomposes a string into a set of tokens.\n",
        "\n",
        "        Args:\n",
        "            string (str): String to decompose.\n",
        "\n",
        "        Returns:\n",
        "            list[str]: List of characters from the string.\n",
        "        \"\"\"\n",
        "        return unicodedata.normalize('NFKD', string).encode('utf-8')\n",
        "\n",
        "    @staticmethod\n",
        "    def levenshtein_distance(string1, string2):\n",
        "        \"\"\" Computes the levensthein distance between two strings.\n",
        "\n",
        "        Args:\n",
        "            string1 (list[any]): Sequence A.\n",
        "            string2 (list[any]): Sequence B.\n",
        "\n",
        "        Returns:\n",
        "            tuple[int, int, int]: Number of insertions + deletions, substitutions and no-ops.\n",
        "        \"\"\"\n",
        "\n",
        "        costs = [\n",
        "            [ 0 for j in range(len(string2)+1) ]\n",
        "            for i in range(len(string1)+1)\n",
        "        ]\n",
        "\n",
        "        # Prepare matrix of costs.\n",
        "        for i in range(len(string1)+1): costs[i][0] = i\n",
        "        for j in range(len(string2)+1): costs[0][j] = j\n",
        "        for i in range(1, len(string1)+1):\n",
        "            for j in range(1, len(string2)+1):\n",
        "                costs[i][j] = min(\n",
        "                    costs[i][j-1] + 1,\n",
        "                    costs[i-1][j] + 1,\n",
        "                    costs[i-1][j-1] + (0 if string1[i-1] == string2[j-1] else 1)\n",
        "                )\n",
        "\n",
        "        # Decode matrix in backward manner for actual operation counts.\n",
        "        c_ins_del, c_sub, c_noop = 0, 0, 0\n",
        "\n",
        "        i, j = len(string1), len(string2)\n",
        "        while i > 0 or j > 0:\n",
        "            if i > 0 and costs[i][j] == costs[i-1][j] + 1:\n",
        "                c_ins_del += 1\n",
        "                i -= 1\n",
        "            elif j > 0 and costs[i][j] == costs[i][j-1] + 1:\n",
        "                c_ins_del += 1\n",
        "                j -= 1\n",
        "            elif i > 0 and j > 0:\n",
        "                if string1[i-1] == string2[j-1]:\n",
        "                    c_noop += 1\n",
        "                else:\n",
        "                    c_sub += 1\n",
        "                i, j = i-1, j-1\n",
        "            else:\n",
        "                break\n",
        "\n",
        "        return c_ins_del, c_sub, c_noop\n",
        "\n",
        "    @staticmethod\n",
        "    def accuracy(y_true, y_pred):\n",
        "        \"\"\" Computes the accuracy of the predictions, against a reference set of predictions.\n",
        "\n",
        "        Args:\n",
        "            y_true (list[str]): Actual translations.\n",
        "            y_pred (list[str]): Generated translations.\n",
        "\n",
        "        Returns:\n",
        "            float: Accuracy score, between 0 and 1.\n",
        "        \"\"\"\n",
        "        return sum(yi_true == yi_pred for yi_true, yi_pred in zip(y_true, y_pred)) / len(y_pred)\n",
        "\n",
        "    @classmethod\n",
        "    def char_error_rate(cls, y_true, y_pred):\n",
        "        \"\"\" Computes the character level error rate (CER) of the set of\n",
        "            predictions against the reference translations.\n",
        "\n",
        "        Args:\n",
        "            y_true (list[str]): Actual translations.\n",
        "            y_pred (list[str]): Generated translations.\n",
        "\n",
        "        Returns:\n",
        "            float: CER score, between 0 and 1. Lower the better.\n",
        "        \"\"\"\n",
        "\n",
        "        cer_score = 0\n",
        "\n",
        "        for yi_true, yi_pred in zip(y_true, y_pred):\n",
        "            yi_true, yi_pred = cls.decompose(yi_true), cls.decompose(yi_pred)\n",
        "            c_ins_del, c_sub, c_noop = cls.levenshtein_distance(yi_true, yi_pred)\n",
        "            cer_score += (c_ins_del + c_sub) / (c_ins_del + c_sub + c_noop)\n",
        "\n",
        "        return cer_score / len(y_true)\n",
        "\n",
        "    def token_error_rate(self, y_true, y_pred):\n",
        "        \"\"\" Computes the token level error rate (TER) of the set of\n",
        "            predictions against the reference translations.\n",
        "\n",
        "        Args:\n",
        "            y_true (list[str]): Actual translations.\n",
        "            y_pred (list[str]): Generated translations.\n",
        "\n",
        "        Returns:\n",
        "            float: TER score, between 0 and 1. Lower the better.\n",
        "        \"\"\"\n",
        "\n",
        "        ter_score = 0\n",
        "\n",
        "        for yi_true, yi_pred in zip(y_true, y_pred):\n",
        "            yi_true = self.tgt_tokenizer.encode(yi_true, add_start=False, add_end=False)\n",
        "            yi_pred = self.tgt_tokenizer.encode(yi_pred, add_start=False, add_end=False)\n",
        "            t_ins_del, t_sub, t_noop = self.levenshtein_distance(yi_true, yi_pred)\n",
        "            ter_score += (t_ins_del + t_sub) / (t_ins_del + t_sub + t_noop)\n",
        "\n",
        "        return ter_score / len(y_true)\n",
        "\n",
        "    @classmethod\n",
        "    def bleu_score(cls, y_true, y_pred):\n",
        "        \"\"\" Computes the average BLEU score of the set of predictions against the reference translations.\n",
        "\n",
        "            Uses default parameters and equal weights for all n-grams, with max N = 4. (Thus computes BLEU-4).\n",
        "            Uses a smoothing method for the case of missing n-grams.\n",
        "\n",
        "        Args:\n",
        "            y_true (list[str]): Actual translations.\n",
        "            y_pred (list[str]): Generated translations.\n",
        "\n",
        "        Returns:\n",
        "            float: BLEU-4 score, the higher the better.\n",
        "        \"\"\"\n",
        "\n",
        "        y_true = [ [ cls.decompose(yi) ] for yi in y_true ]\n",
        "        y_pred = [ cls.decompose(yi) for yi in y_pred ]\n",
        "\n",
        "        smoothing = bleu_score.SmoothingFunction()\n",
        "\n",
        "        return bleu_score.corpus_bleu(\n",
        "            y_true, y_pred,\n",
        "            smoothing_function=smoothing.method1\n",
        "        )\n",
        "\n",
        "    def evaluate(self, model_path, data, reference_outputs, **decoding_kwargs):\n",
        "        \"\"\" Performs the evaluation of a specified model over given data.\n",
        "\n",
        "        Args:\n",
        "            model_path (str): Path to load the model from. Must have a model.pt file.\n",
        "            data (list[str]): List of input strings to translate.\n",
        "            reference_outputs (list[str]): List of output strings to use as reference.\n",
        "            decoding_kwargs (dict[str, any]): Additional arguments to forward to the decoding method.\n",
        "                This could be for instance, max_length for a greedy decoding method.\n",
        "\n",
        "        Raises:\n",
        "            ValueError: If the decoding method is not set apriori.\n",
        "        \"\"\"\n",
        "\n",
        "        if self.decoding_method is None:\n",
        "            raise ValueError(f\"{self.evaluate.__name__}: no decoding method is set, assign before use.\")\n",
        "\n",
        "        # Load the model to the active device.\n",
        "        model = torch.load(os.path.join(model_path, 'model.pt'), map_location=self.device, weights_only=False)\n",
        "\n",
        "        # Set model use parameters.\n",
        "        model.to(self.device)\n",
        "        model.eval()\n",
        "\n",
        "        # Generate outputs.\n",
        "        generated_outputs = []\n",
        "        with torch.no_grad():\n",
        "            for seq_x in data:\n",
        "                generated_outputs.append(self.decoding_method(\n",
        "                    model, seq_x, self.src_tokenizer,\n",
        "                    self.tgt_tokenizer, **decoding_kwargs\n",
        "                ))\n",
        "\n",
        "        accuracy_score = self.accuracy(reference_outputs, generated_outputs)\n",
        "        cer_score      = self.char_error_rate(reference_outputs, generated_outputs)\n",
        "        ter_score      = self.token_error_rate(reference_outputs, generated_outputs)\n",
        "        blue_score     = self.bleu_score(reference_outputs, generated_outputs)\n",
        "\n",
        "        print(\"EVALUATION:\", \">\", \"accuracy:\", f\"{accuracy_score:.2%}\")\n",
        "        print(\"EVALUATION:\", \">\", \"CER     :\", f\"{cer_score:.2%}\")\n",
        "        print(\"EVALUATION:\", \">\", \"TER     :\", f\"{ter_score:.2%}\")\n",
        "        print(\"EVALUATION:\", \">\", \"BLEU    :\", f\"{blue_score:.4f}\")\n",
        "        print()\n",
        "\n",
        "        # Free resources once evaluation is complete.\n",
        "        del model\n",
        "        sync_vram()"
      ]
    },
    {
      "cell_type": "code",
      "execution_count": 137,
      "metadata": {
        "colab": {
          "base_uri": "https://localhost:8080/"
        },
        "id": "R3DxXlLm7S1X",
        "outputId": "8f514d0a-cb5e-47cf-baa9-a8f323ceb76b"
      },
      "outputs": [
        {
          "name": "stdout",
          "output_type": "stream",
          "text": [
            "EVALUATION: enc-dec-rnn\n",
            "EVALUATION: > accuracy: 40.25%\n",
            "EVALUATION: > CER     : 16.22%\n",
            "EVALUATION: > TER     : 27.39%\n",
            "EVALUATION: > BLEU    : 0.6938\n",
            "\n",
            "EVALUATION: enc-dec-rnn-attn\n",
            "EVALUATION: > accuracy: 47.75%\n",
            "EVALUATION: > CER     : 13.76%\n",
            "EVALUATION: > TER     : 24.10%\n",
            "EVALUATION: > BLEU    : 0.7250\n",
            "\n"
          ]
        }
      ],
      "source": [
        "# Please do not change anything in the following cell.\n",
        "\n",
        "evaluator = Evaluator(src_tokenizer, tgt_tokenizer)\n",
        "\n",
        "# Use greedy decoding for producing outputs.\n",
        "evaluator.set_decoding_method(rnn_greedy_generate)\n",
        "\n",
        "# Evaluate enc-dec-rnn\n",
        "print(\"EVALUATION:\", \"enc-dec-rnn\")\n",
        "evaluator.evaluate(\n",
        "    os.path.join(DIRECTORY_NAME, \"rnn.enc-dec\"),\n",
        "    validation_data['Name'], validation_data['Translation'],\n",
        "    max_length = rnn_enc_dec_data_params['tgt_padding']\n",
        ")\n",
        "\n",
        "# Evaluate enc-dec-rnn-attn\n",
        "print(\"EVALUATION:\", \"enc-dec-rnn-attn\")\n",
        "evaluator.evaluate(\n",
        "    os.path.join(DIRECTORY_NAME, \"rnn.enc-dec.attn\"),\n",
        "    validation_data['Name'], validation_data['Translation'],\n",
        "    max_length = rnn_enc_dec_attn_data_params['tgt_padding']\n",
        ")"
      ]
    },
    {
      "cell_type": "markdown",
      "metadata": {
        "id": "jfI3NL8w7S1Y"
      },
      "source": [
        "## Decoding Strategy"
      ]
    },
    {
      "cell_type": "markdown",
      "metadata": {
        "id": "scHoXxoi7S1Y"
      },
      "source": [
        "A conditional language model aims to learn $P_\\theta(y | x)$, that is, the probability of the target sequence being $y$ when the input sequence is $x$. This is modeled as $P_{\\theta}(y | x) = \\prod_{i=1}^{|y|} {P_\\theta(y_i | x, y_{1:i-1})}$.\n",
        "\n",
        "For translation, our goal is to find the sequence that maximizes this conditional probability, i.e. $y^* = \\arg \\max_{y} P_\\theta(y | x)$. $y^*$ is then the 'best' translation for the input sequence $x$. However, computing probabilities for all possible $y$ to find the maximizer is intractable. As a result, decoding strategies are employed to produce reasonable approximations of $y^*$.\n",
        "\n",
        "In the last module, you evaluated your models through different metrics, but the approach for generating outputs from the model was fixed to greedy decoding, where at each time step, the token to be produced is determined by $y_{i,greedy} := \\arg \\max_{y_i} P(y_i| x, y_{1:i-1})$. While this approach is fast, $P(y_{greedy}|x)$ may be much less than $P(y^*|x)$. Fortunately, better decoding strategies exist to produce better approximations, however at the cost of higher time complexity. One such strategy is:\n",
        "\n",
        "- **Beam-Search Decoding**: At every time step, retains $k$ candidate token generations, which are decoded individually (each path is referred as a beam) to obtain $k$ successors per beam. For the next time step, the best $k$ candidates are retained such that conditional probability of the sequence generated so far is maximized. Has a complexity of $O(kV|y|)$, where $V$ is the size of the target vocabulary, and $|y|$ is the target sequence length. Using $k=1$ makes it equivalent to greedy decoding. Implementations also employ length penalties to not be biased towards larger target sequences.\n",
        "\n",
        "In the next cell, you will implement the above explained Beam-Search Decoding decoding strategy."
      ]
    },
    {
      "cell_type": "code",
      "execution_count": 138,
      "metadata": {
        "id": "x4sw-Wrb7S1Z"
      },
      "outputs": [],
      "source": [
        "## ==== BEGIN EVALUATION PORTION\n",
        "\n",
        "# Feel free to add additional parameters to rnn_better_generate, such as k for Beam Search Decoding.\n",
        "def rnn_better_generate(model, seq_x, src_tokenizer, tgt_tokenizer, max_length, k=5, length_penalty_alpha=0.6):\n",
        "    \"\"\" Given a source string, translate it to the target language using the trained model.\n",
        "        This function should use a better decoding strategy than greedy decoding (see above) to generate the results.\n",
        "\n",
        "    Args:\n",
        "        model (nn.Module): RNN Type Encoder-Decoder Model\n",
        "        seq_x (str): Input string to translate.\n",
        "        src_tokenizer (Tokenizer): Source language tokenizer.\n",
        "        tgt_tokenizer (Tokenizer): Target language tokenizer.\n",
        "        max_length (int): Maximum length of the target sequence to decode.\n",
        "\n",
        "    Returns:\n",
        "        str: Generated string for the given input in the target language.\n",
        "    \"\"\"\n",
        "\n",
        "    # BEGIN CODE : enc-dec-rnn.better_generate\n",
        "\n",
        "    # ADD YOUR CODE HERE\n",
        "\n",
        "    model.eval()\n",
        "    with torch.no_grad():\n",
        "        # Tokenize and prepare the source tensor\n",
        "        seq_x = torch.tensor(src_tokenizer.encode(seq_x), dtype=torch.long, device=model.device).unsqueeze(0)\n",
        "        # Determine special token ids\n",
        "        bos_token = tgt_tokenizer.special_tokens['[BOS]']\n",
        "        eos_token = tgt_tokenizer.special_tokens['[EOS]']\n",
        "        pad_token = tgt_tokenizer.special_tokens['[PAD]']\n",
        "\n",
        "        # Initialize beam search\n",
        "        # Each beam is a tuple: (sequence, log_prob, is_finished, hidden_state)\n",
        "        beams = [(\n",
        "            torch.tensor([[bos_token]], dtype=torch.long, device=model.device),\n",
        "            0.0,\n",
        "            False,\n",
        "            None  # Initial hidden state\n",
        "        )]\n",
        "\n",
        "        # Generate sequences\n",
        "        for step in range(max_length):\n",
        "            next_beams = []\n",
        "\n",
        "            for beam in beams:\n",
        "                seq, current_score, is_finished, hidden_state = beam\n",
        "\n",
        "                # Skip if this beam is already finished\n",
        "                if is_finished:\n",
        "                    next_beams.append(beam)\n",
        "                    continue\n",
        "\n",
        "                # Use forward method to get next token probabilities\n",
        "                # Note: Adjust parameters based on your exact model signature\n",
        "\n",
        "                # Check if model.attention is available\n",
        "\n",
        "                if hasattr(model, 'attention'):\n",
        "                    output, new_hidden_state = model.forward(\n",
        "                        seq_x,\n",
        "                        decoder_inputs=seq[:, -1].unsqueeze(1),\n",
        "                        decoder_hidden_state=hidden_state,\n",
        "                        output_attention=False\n",
        "                    )\n",
        "                else:\n",
        "                    output, new_hidden_state = model.forward(\n",
        "                        seq_x,\n",
        "                        decoder_inputs=seq[:, -1].unsqueeze(1),\n",
        "                        decoder_hidden_state=hidden_state\n",
        "                    )\n",
        "\n",
        "                # Get log probabilities for next tokens (adjust indexing as needed)\n",
        "                log_probs = torch.log_softmax(output[0, 0, :], dim=0)\n",
        "\n",
        "                # Sort log probabilities to get top k candidates\n",
        "                top_log_probs, top_indices = torch.topk(log_probs, k)\n",
        "\n",
        "                # Expand beam for each top candidate\n",
        "                for log_prob, token in zip(top_log_probs, top_indices):\n",
        "                    new_seq = torch.cat([seq, token.unsqueeze(0).unsqueeze(0)], dim=1)\n",
        "\n",
        "                    # Calculate score with length penalty\n",
        "                    length_penalty = ((5 + new_seq.size(1)) / (5 + 1)) ** length_penalty_alpha\n",
        "                    new_score = current_score + log_prob.item() / length_penalty\n",
        "\n",
        "                    # Check if sequence is finished\n",
        "                    is_seq_finished = token.item() == eos_token\n",
        "\n",
        "                    next_beams.append((\n",
        "                        new_seq,\n",
        "                        new_score,\n",
        "                        is_seq_finished,\n",
        "                        new_hidden_state\n",
        "                    ))\n",
        "\n",
        "            # Sort and prune beams\n",
        "            next_beams.sort(key=lambda x: x[1], reverse=True)\n",
        "            beams = next_beams[:k]\n",
        "\n",
        "            # Check if all beams are finished\n",
        "            if all(beam[2] for beam in beams):\n",
        "                break\n",
        "\n",
        "        # Select best beam\n",
        "        best_seq = max(beams, key=lambda x: x[1])[0]\n",
        "\n",
        "        # Clean up sequence\n",
        "        best_seq = best_seq.squeeze().tolist()\n",
        "        if best_seq[0] == bos_token:\n",
        "            best_seq = best_seq[1:]\n",
        "        if eos_token in best_seq:\n",
        "            best_seq = best_seq[:best_seq.index(eos_token)]\n",
        "\n",
        "        # Decode and return\n",
        "        return tgt_tokenizer.decode(best_seq)\n",
        "\n",
        "    # END CODE\n",
        "\n",
        "## ==== END EVALUATION PORTION"
      ]
    },
    {
      "cell_type": "code",
      "execution_count": 139,
      "metadata": {
        "id": "PhMFQmhY7S1Z"
      },
      "outputs": [],
      "source": [
        "## ==== BEGIN EVALUATION PORTION\n",
        "\n",
        "# BEGIN CODE : decoding.init\n",
        "\n",
        "# Add parameter values for your decoding strategy here. Leave empty if unused.\n",
        "\n",
        "decoding_params = dict(\n",
        "    # ADD YOUR CODE HERE\n",
        " k=10, length_penalty_alpha=0.1\n",
        "\n",
        ")\n",
        "\n",
        "## ==== END EVALUATION PORTION"
      ]
    },
    {
      "cell_type": "code",
      "execution_count": 140,
      "metadata": {
        "colab": {
          "base_uri": "https://localhost:8080/",
          "height": 332
        },
        "id": "aOwxnBIC7S1a",
        "outputId": "cffced95-59c0-412d-e67d-fcaa39b0bd50"
      },
      "outputs": [
        {
          "name": "stdout",
          "output_type": "stream",
          "text": [
            "EVALUATION: enc-dec-rnn\n",
            "EVALUATION: > accuracy: 45.00%\n",
            "EVALUATION: > CER     : 14.35%\n",
            "EVALUATION: > TER     : 24.73%\n",
            "EVALUATION: > BLEU    : 0.7230\n",
            "\n",
            "EVALUATION: enc-dec-rnn-attn\n",
            "EVALUATION: > accuracy: 49.75%\n",
            "EVALUATION: > CER     : 12.60%\n",
            "EVALUATION: > TER     : 23.07%\n",
            "EVALUATION: > BLEU    : 0.7401\n",
            "\n"
          ]
        }
      ],
      "source": [
        "# Please do not change anything in the following cell.\n",
        "\n",
        "evaluator = Evaluator(src_tokenizer, tgt_tokenizer)\n",
        "evaluator.set_decoding_method(rnn_better_generate)\n",
        "\n",
        "# Evaluate enc-dec-rnn\n",
        "print(\"EVALUATION:\", \"enc-dec-rnn\")\n",
        "evaluator.evaluate(\n",
        "    os.path.join(DIRECTORY_NAME, \"rnn.enc-dec\"),\n",
        "    validation_data['Name'], validation_data['Translation'],\n",
        "    max_length = rnn_enc_dec_data_params['tgt_padding'],\n",
        "    **decoding_params\n",
        ")\n",
        "\n",
        "# Evaluate enc-dec-rnn-attn\n",
        "print(\"EVALUATION:\", \"enc-dec-rnn-attn\")\n",
        "evaluator.evaluate(\n",
        "    os.path.join(DIRECTORY_NAME, \"rnn.enc-dec.attn\"),\n",
        "    validation_data['Name'], validation_data['Translation'],\n",
        "    max_length = rnn_enc_dec_attn_data_params['tgt_padding'],\n",
        "    **decoding_params\n",
        ")"
      ]
    },
    {
      "cell_type": "markdown",
      "metadata": {
        "id": "yHm5Di5V7S1a"
      },
      "source": [
        "## Congratulations!"
      ]
    },
    {
      "cell_type": "markdown",
      "metadata": {
        "id": "kxGerFZH7S1b"
      },
      "source": [
        "You have reached the end of the last assignment! Hope this was a fun exercise!\n",
        "\n",
        "Once you've run the cells above, you should be ready to submit the assignment."
      ]
    }
  ],
  "metadata": {
    "accelerator": "GPU",
    "colab": {
      "gpuType": "T4",
      "provenance": []
    },
    "kernelspec": {
      "display_name": "NLP3",
      "language": "python",
      "name": "python3"
    },
    "language_info": {
      "codemirror_mode": {
        "name": "ipython",
        "version": 3
      },
      "file_extension": ".py",
      "mimetype": "text/x-python",
      "name": "python",
      "nbconvert_exporter": "python",
      "pygments_lexer": "ipython3",
      "version": "3.13.2"
    },
    "widgets": {
      "application/vnd.jupyter.widget-state+json": {
        "0d0cbc5d92c34abea6aa645c7a423d1f": {
          "model_module": "@jupyter-widgets/controls",
          "model_module_version": "1.5.0",
          "model_name": "DescriptionStyleModel",
          "state": {
            "_model_module": "@jupyter-widgets/controls",
            "_model_module_version": "1.5.0",
            "_model_name": "DescriptionStyleModel",
            "_view_count": null,
            "_view_module": "@jupyter-widgets/base",
            "_view_module_version": "1.2.0",
            "_view_name": "StyleView",
            "description_width": ""
          }
        },
        "1f4b6ff957164e42b6c3bc7efaeb6db7": {
          "model_module": "@jupyter-widgets/base",
          "model_module_version": "1.2.0",
          "model_name": "LayoutModel",
          "state": {
            "_model_module": "@jupyter-widgets/base",
            "_model_module_version": "1.2.0",
            "_model_name": "LayoutModel",
            "_view_count": null,
            "_view_module": "@jupyter-widgets/base",
            "_view_module_version": "1.2.0",
            "_view_name": "LayoutView",
            "align_content": null,
            "align_items": null,
            "align_self": null,
            "border": null,
            "bottom": null,
            "display": null,
            "flex": null,
            "flex_flow": null,
            "grid_area": null,
            "grid_auto_columns": null,
            "grid_auto_flow": null,
            "grid_auto_rows": null,
            "grid_column": null,
            "grid_gap": null,
            "grid_row": null,
            "grid_template_areas": null,
            "grid_template_columns": null,
            "grid_template_rows": null,
            "height": null,
            "justify_content": null,
            "justify_items": null,
            "left": null,
            "margin": null,
            "max_height": null,
            "max_width": null,
            "min_height": null,
            "min_width": null,
            "object_fit": null,
            "object_position": null,
            "order": null,
            "overflow": null,
            "overflow_x": null,
            "overflow_y": null,
            "padding": null,
            "right": null,
            "top": null,
            "visibility": null,
            "width": null
          }
        },
        "5e7c6275eb7b4ee2930c60a9d02cf09b": {
          "model_module": "@jupyter-widgets/base",
          "model_module_version": "1.2.0",
          "model_name": "LayoutModel",
          "state": {
            "_model_module": "@jupyter-widgets/base",
            "_model_module_version": "1.2.0",
            "_model_name": "LayoutModel",
            "_view_count": null,
            "_view_module": "@jupyter-widgets/base",
            "_view_module_version": "1.2.0",
            "_view_name": "LayoutView",
            "align_content": null,
            "align_items": null,
            "align_self": null,
            "border": null,
            "bottom": null,
            "display": null,
            "flex": null,
            "flex_flow": null,
            "grid_area": null,
            "grid_auto_columns": null,
            "grid_auto_flow": null,
            "grid_auto_rows": null,
            "grid_column": null,
            "grid_gap": null,
            "grid_row": null,
            "grid_template_areas": null,
            "grid_template_columns": null,
            "grid_template_rows": null,
            "height": null,
            "justify_content": null,
            "justify_items": null,
            "left": null,
            "margin": null,
            "max_height": null,
            "max_width": null,
            "min_height": null,
            "min_width": null,
            "object_fit": null,
            "object_position": null,
            "order": null,
            "overflow": null,
            "overflow_x": null,
            "overflow_y": null,
            "padding": null,
            "right": null,
            "top": null,
            "visibility": null,
            "width": null
          }
        },
        "692e9a0ea5f64aaabb47c47f1c2f2cd2": {
          "model_module": "@jupyter-widgets/controls",
          "model_module_version": "1.5.0",
          "model_name": "HBoxModel",
          "state": {
            "_dom_classes": [],
            "_model_module": "@jupyter-widgets/controls",
            "_model_module_version": "1.5.0",
            "_model_name": "HBoxModel",
            "_view_count": null,
            "_view_module": "@jupyter-widgets/controls",
            "_view_module_version": "1.5.0",
            "_view_name": "HBoxView",
            "box_style": "",
            "children": [
              "IPY_MODEL_c1a80360a6254aa6b7750bc8a79a22a5",
              "IPY_MODEL_8df3b239457743bb85a7a6bebda97a77",
              "IPY_MODEL_bb41b65fbbf64c1892d15d49faac6b21"
            ],
            "layout": "IPY_MODEL_d1b2ae7844164f75825ec8fa2a2ea8ed"
          }
        },
        "7350ae1212b34f5d95cde66d165a150b": {
          "model_module": "@jupyter-widgets/controls",
          "model_module_version": "1.5.0",
          "model_name": "DescriptionStyleModel",
          "state": {
            "_model_module": "@jupyter-widgets/controls",
            "_model_module_version": "1.5.0",
            "_model_name": "DescriptionStyleModel",
            "_view_count": null,
            "_view_module": "@jupyter-widgets/base",
            "_view_module_version": "1.2.0",
            "_view_name": "StyleView",
            "description_width": ""
          }
        },
        "79e870ccc40f40d4be159d7158ac432a": {
          "model_module": "@jupyter-widgets/controls",
          "model_module_version": "1.5.0",
          "model_name": "ProgressStyleModel",
          "state": {
            "_model_module": "@jupyter-widgets/controls",
            "_model_module_version": "1.5.0",
            "_model_name": "ProgressStyleModel",
            "_view_count": null,
            "_view_module": "@jupyter-widgets/base",
            "_view_module_version": "1.2.0",
            "_view_name": "StyleView",
            "bar_color": null,
            "description_width": ""
          }
        },
        "8df3b239457743bb85a7a6bebda97a77": {
          "model_module": "@jupyter-widgets/controls",
          "model_module_version": "1.5.0",
          "model_name": "FloatProgressModel",
          "state": {
            "_dom_classes": [],
            "_model_module": "@jupyter-widgets/controls",
            "_model_module_version": "1.5.0",
            "_model_name": "FloatProgressModel",
            "_view_count": null,
            "_view_module": "@jupyter-widgets/controls",
            "_view_module_version": "1.5.0",
            "_view_name": "ProgressView",
            "bar_style": "success",
            "description": "",
            "description_tooltip": null,
            "layout": "IPY_MODEL_1f4b6ff957164e42b6c3bc7efaeb6db7",
            "max": 720,
            "min": 0,
            "orientation": "horizontal",
            "style": "IPY_MODEL_79e870ccc40f40d4be159d7158ac432a",
            "value": 720
          }
        },
        "bb41b65fbbf64c1892d15d49faac6b21": {
          "model_module": "@jupyter-widgets/controls",
          "model_module_version": "1.5.0",
          "model_name": "HTMLModel",
          "state": {
            "_dom_classes": [],
            "_model_module": "@jupyter-widgets/controls",
            "_model_module_version": "1.5.0",
            "_model_name": "HTMLModel",
            "_view_count": null,
            "_view_module": "@jupyter-widgets/controls",
            "_view_module_version": "1.5.0",
            "_view_name": "HTMLView",
            "description": "",
            "description_tooltip": null,
            "layout": "IPY_MODEL_5e7c6275eb7b4ee2930c60a9d02cf09b",
            "placeholder": "​",
            "style": "IPY_MODEL_0d0cbc5d92c34abea6aa645c7a423d1f",
            "value": " 720/720 [03:44&lt;00:00,  3.61it/s, batch=36, loss=1.63]"
          }
        },
        "c1a80360a6254aa6b7750bc8a79a22a5": {
          "model_module": "@jupyter-widgets/controls",
          "model_module_version": "1.5.0",
          "model_name": "HTMLModel",
          "state": {
            "_dom_classes": [],
            "_model_module": "@jupyter-widgets/controls",
            "_model_module_version": "1.5.0",
            "_model_name": "HTMLModel",
            "_view_count": null,
            "_view_module": "@jupyter-widgets/controls",
            "_view_module_version": "1.5.0",
            "_view_name": "HTMLView",
            "description": "",
            "description_tooltip": null,
            "layout": "IPY_MODEL_ce8dd6a6214e4ff9b11b4f6c1944ff0f",
            "placeholder": "​",
            "style": "IPY_MODEL_7350ae1212b34f5d95cde66d165a150b",
            "value": "Epoch 20 / 20: 100%"
          }
        },
        "ce8dd6a6214e4ff9b11b4f6c1944ff0f": {
          "model_module": "@jupyter-widgets/base",
          "model_module_version": "1.2.0",
          "model_name": "LayoutModel",
          "state": {
            "_model_module": "@jupyter-widgets/base",
            "_model_module_version": "1.2.0",
            "_model_name": "LayoutModel",
            "_view_count": null,
            "_view_module": "@jupyter-widgets/base",
            "_view_module_version": "1.2.0",
            "_view_name": "LayoutView",
            "align_content": null,
            "align_items": null,
            "align_self": null,
            "border": null,
            "bottom": null,
            "display": null,
            "flex": null,
            "flex_flow": null,
            "grid_area": null,
            "grid_auto_columns": null,
            "grid_auto_flow": null,
            "grid_auto_rows": null,
            "grid_column": null,
            "grid_gap": null,
            "grid_row": null,
            "grid_template_areas": null,
            "grid_template_columns": null,
            "grid_template_rows": null,
            "height": null,
            "justify_content": null,
            "justify_items": null,
            "left": null,
            "margin": null,
            "max_height": null,
            "max_width": null,
            "min_height": null,
            "min_width": null,
            "object_fit": null,
            "object_position": null,
            "order": null,
            "overflow": null,
            "overflow_x": null,
            "overflow_y": null,
            "padding": null,
            "right": null,
            "top": null,
            "visibility": null,
            "width": null
          }
        },
        "d1b2ae7844164f75825ec8fa2a2ea8ed": {
          "model_module": "@jupyter-widgets/base",
          "model_module_version": "1.2.0",
          "model_name": "LayoutModel",
          "state": {
            "_model_module": "@jupyter-widgets/base",
            "_model_module_version": "1.2.0",
            "_model_name": "LayoutModel",
            "_view_count": null,
            "_view_module": "@jupyter-widgets/base",
            "_view_module_version": "1.2.0",
            "_view_name": "LayoutView",
            "align_content": null,
            "align_items": null,
            "align_self": null,
            "border": null,
            "bottom": null,
            "display": null,
            "flex": null,
            "flex_flow": null,
            "grid_area": null,
            "grid_auto_columns": null,
            "grid_auto_flow": null,
            "grid_auto_rows": null,
            "grid_column": null,
            "grid_gap": null,
            "grid_row": null,
            "grid_template_areas": null,
            "grid_template_columns": null,
            "grid_template_rows": null,
            "height": null,
            "justify_content": null,
            "justify_items": null,
            "left": null,
            "margin": null,
            "max_height": null,
            "max_width": null,
            "min_height": null,
            "min_width": null,
            "object_fit": null,
            "object_position": null,
            "order": null,
            "overflow": null,
            "overflow_x": null,
            "overflow_y": null,
            "padding": null,
            "right": null,
            "top": null,
            "visibility": null,
            "width": null
          }
        }
      }
    }
  },
  "nbformat": 4,
  "nbformat_minor": 0
}
